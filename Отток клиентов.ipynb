{
 "cells": [
  {
   "cell_type": "code",
   "execution_count": null,
   "metadata": {},
   "outputs": [],
   "source": [
    "https://github.com/mariakhamitowa/yandex-practicum.git"
   ]
  },
  {
   "cell_type": "markdown",
   "metadata": {
    "toc": true
   },
   "source": [
    "<h1>Содержание<span class=\"tocSkip\"></span></h1>\n",
    "<div class=\"toc\"><ul class=\"toc-item\"><li><span><a href=\"#Подготовка-данных\" data-toc-modified-id=\"Подготовка-данных-1\"><span class=\"toc-item-num\">1&nbsp;&nbsp;</span>Подготовка данных</a></span></li><li><span><a href=\"#Исследование-задачи\" data-toc-modified-id=\"Исследование-задачи-2\"><span class=\"toc-item-num\">2&nbsp;&nbsp;</span>Исследование задачи</a></span></li><li><span><a href=\"#Борьба-с-дисбалансом\" data-toc-modified-id=\"Борьба-с-дисбалансом-3\"><span class=\"toc-item-num\">3&nbsp;&nbsp;</span>Борьба с дисбалансом</a></span></li><li><span><a href=\"#Тестирование-модели\" data-toc-modified-id=\"Тестирование-модели-4\"><span class=\"toc-item-num\">4&nbsp;&nbsp;</span>Тестирование модели</a></span></li><li><span><a href=\"#Чек-лист-готовности-проекта\" data-toc-modified-id=\"Чек-лист-готовности-проекта-5\"><span class=\"toc-item-num\">5&nbsp;&nbsp;</span>Чек-лист готовности проекта</a></span></li></ul></div>"
   ]
  },
  {
   "cell_type": "markdown",
   "metadata": {},
   "source": [
    "# Отток клиентов"
   ]
  },
  {
   "cell_type": "markdown",
   "metadata": {},
   "source": [
    "Из «Бета-Банка» стали уходить клиенты. Каждый месяц. Немного, но заметно. Банковские маркетологи посчитали: сохранять текущих клиентов дешевле, чем привлекать новых.\n",
    "\n",
    "Нужно спрогнозировать, уйдёт клиент из банка в ближайшее время или нет. Вам предоставлены исторические данные о поведении клиентов и расторжении договоров с банком. \n",
    "\n",
    "Постройте модель с предельно большим значением *F1*-меры. Чтобы сдать проект успешно, нужно довести метрику до 0.59. Проверьте *F1*-меру на тестовой выборке самостоятельно.\n",
    "\n",
    "Дополнительно измеряйте *AUC-ROC*, сравнивайте её значение с *F1*-мерой.\n",
    "\n",
    "Источник данных: [https://www.kaggle.com/barelydedicated/bank-customer-churn-modeling](https://www.kaggle.com/barelydedicated/bank-customer-churn-modeling)"
   ]
  },
  {
   "cell_type": "markdown",
   "metadata": {},
   "source": [
    "## Подготовка данных"
   ]
  },
  {
   "cell_type": "code",
   "execution_count": 109,
   "metadata": {},
   "outputs": [],
   "source": [
    "import pandas as pd\n",
    "import numpy as np\n",
    "%matplotlib inline\n",
    "import matplotlib.pyplot as plt\n",
    "import seaborn as sns\n",
    "sns.set_style(\"darkgrid\")\n",
    "from sklearn.linear_model import LogisticRegression\n",
    "from sklearn.ensemble import RandomForestClassifier\n",
    "from sklearn.tree import DecisionTreeClassifier\n",
    "from sklearn.metrics import f1_score, roc_auc_score, roc_curve, precision_score, recall_score\n",
    "from sklearn.metrics import precision_recall_curve, accuracy_score\n",
    "from catboost import CatBoostClassifier\n",
    "from sklearn.preprocessing import StandardScaler\n",
    "from sklearn.model_selection import train_test_split, GridSearchCV\n",
    "\n",
    "from sklearn.utils import shuffle\n",
    "import warnings\n",
    "warnings.filterwarnings(\"ignore\")"
   ]
  },
  {
   "cell_type": "code",
   "execution_count": 110,
   "metadata": {},
   "outputs": [
    {
     "data": {
      "text/html": [
       "<div>\n",
       "<style scoped>\n",
       "    .dataframe tbody tr th:only-of-type {\n",
       "        vertical-align: middle;\n",
       "    }\n",
       "\n",
       "    .dataframe tbody tr th {\n",
       "        vertical-align: top;\n",
       "    }\n",
       "\n",
       "    .dataframe thead th {\n",
       "        text-align: right;\n",
       "    }\n",
       "</style>\n",
       "<table border=\"1\" class=\"dataframe\">\n",
       "  <thead>\n",
       "    <tr style=\"text-align: right;\">\n",
       "      <th></th>\n",
       "      <th>CustomerId</th>\n",
       "      <th>Surname</th>\n",
       "      <th>CreditScore</th>\n",
       "      <th>Geography</th>\n",
       "      <th>Gender</th>\n",
       "      <th>Age</th>\n",
       "      <th>Tenure</th>\n",
       "      <th>Balance</th>\n",
       "      <th>NumOfProducts</th>\n",
       "      <th>HasCrCard</th>\n",
       "      <th>IsActiveMember</th>\n",
       "      <th>EstimatedSalary</th>\n",
       "      <th>Exited</th>\n",
       "    </tr>\n",
       "    <tr>\n",
       "      <th>RowNumber</th>\n",
       "      <th></th>\n",
       "      <th></th>\n",
       "      <th></th>\n",
       "      <th></th>\n",
       "      <th></th>\n",
       "      <th></th>\n",
       "      <th></th>\n",
       "      <th></th>\n",
       "      <th></th>\n",
       "      <th></th>\n",
       "      <th></th>\n",
       "      <th></th>\n",
       "      <th></th>\n",
       "    </tr>\n",
       "  </thead>\n",
       "  <tbody>\n",
       "    <tr>\n",
       "      <th>1</th>\n",
       "      <td>15634602</td>\n",
       "      <td>Hargrave</td>\n",
       "      <td>619</td>\n",
       "      <td>France</td>\n",
       "      <td>Female</td>\n",
       "      <td>42</td>\n",
       "      <td>2</td>\n",
       "      <td>0.00</td>\n",
       "      <td>1</td>\n",
       "      <td>1</td>\n",
       "      <td>1</td>\n",
       "      <td>101348.88</td>\n",
       "      <td>1</td>\n",
       "    </tr>\n",
       "    <tr>\n",
       "      <th>2</th>\n",
       "      <td>15647311</td>\n",
       "      <td>Hill</td>\n",
       "      <td>608</td>\n",
       "      <td>Spain</td>\n",
       "      <td>Female</td>\n",
       "      <td>41</td>\n",
       "      <td>1</td>\n",
       "      <td>83807.86</td>\n",
       "      <td>1</td>\n",
       "      <td>0</td>\n",
       "      <td>1</td>\n",
       "      <td>112542.58</td>\n",
       "      <td>0</td>\n",
       "    </tr>\n",
       "    <tr>\n",
       "      <th>3</th>\n",
       "      <td>15619304</td>\n",
       "      <td>Onio</td>\n",
       "      <td>502</td>\n",
       "      <td>France</td>\n",
       "      <td>Female</td>\n",
       "      <td>42</td>\n",
       "      <td>8</td>\n",
       "      <td>159660.80</td>\n",
       "      <td>3</td>\n",
       "      <td>1</td>\n",
       "      <td>0</td>\n",
       "      <td>113931.57</td>\n",
       "      <td>1</td>\n",
       "    </tr>\n",
       "    <tr>\n",
       "      <th>4</th>\n",
       "      <td>15701354</td>\n",
       "      <td>Boni</td>\n",
       "      <td>699</td>\n",
       "      <td>France</td>\n",
       "      <td>Female</td>\n",
       "      <td>39</td>\n",
       "      <td>1</td>\n",
       "      <td>0.00</td>\n",
       "      <td>2</td>\n",
       "      <td>0</td>\n",
       "      <td>0</td>\n",
       "      <td>93826.63</td>\n",
       "      <td>0</td>\n",
       "    </tr>\n",
       "    <tr>\n",
       "      <th>5</th>\n",
       "      <td>15737888</td>\n",
       "      <td>Mitchell</td>\n",
       "      <td>850</td>\n",
       "      <td>Spain</td>\n",
       "      <td>Female</td>\n",
       "      <td>43</td>\n",
       "      <td>2</td>\n",
       "      <td>125510.82</td>\n",
       "      <td>1</td>\n",
       "      <td>1</td>\n",
       "      <td>1</td>\n",
       "      <td>79084.10</td>\n",
       "      <td>0</td>\n",
       "    </tr>\n",
       "    <tr>\n",
       "      <th>6</th>\n",
       "      <td>15574012</td>\n",
       "      <td>Chu</td>\n",
       "      <td>645</td>\n",
       "      <td>Spain</td>\n",
       "      <td>Male</td>\n",
       "      <td>44</td>\n",
       "      <td>8</td>\n",
       "      <td>113755.78</td>\n",
       "      <td>2</td>\n",
       "      <td>1</td>\n",
       "      <td>0</td>\n",
       "      <td>149756.71</td>\n",
       "      <td>1</td>\n",
       "    </tr>\n",
       "    <tr>\n",
       "      <th>7</th>\n",
       "      <td>15592531</td>\n",
       "      <td>Bartlett</td>\n",
       "      <td>822</td>\n",
       "      <td>France</td>\n",
       "      <td>Male</td>\n",
       "      <td>50</td>\n",
       "      <td>7</td>\n",
       "      <td>0.00</td>\n",
       "      <td>2</td>\n",
       "      <td>1</td>\n",
       "      <td>1</td>\n",
       "      <td>10062.80</td>\n",
       "      <td>0</td>\n",
       "    </tr>\n",
       "    <tr>\n",
       "      <th>8</th>\n",
       "      <td>15656148</td>\n",
       "      <td>Obinna</td>\n",
       "      <td>376</td>\n",
       "      <td>Germany</td>\n",
       "      <td>Female</td>\n",
       "      <td>29</td>\n",
       "      <td>4</td>\n",
       "      <td>115046.74</td>\n",
       "      <td>4</td>\n",
       "      <td>1</td>\n",
       "      <td>0</td>\n",
       "      <td>119346.88</td>\n",
       "      <td>1</td>\n",
       "    </tr>\n",
       "    <tr>\n",
       "      <th>9</th>\n",
       "      <td>15792365</td>\n",
       "      <td>He</td>\n",
       "      <td>501</td>\n",
       "      <td>France</td>\n",
       "      <td>Male</td>\n",
       "      <td>44</td>\n",
       "      <td>4</td>\n",
       "      <td>142051.07</td>\n",
       "      <td>2</td>\n",
       "      <td>0</td>\n",
       "      <td>1</td>\n",
       "      <td>74940.50</td>\n",
       "      <td>0</td>\n",
       "    </tr>\n",
       "    <tr>\n",
       "      <th>10</th>\n",
       "      <td>15592389</td>\n",
       "      <td>H?</td>\n",
       "      <td>684</td>\n",
       "      <td>France</td>\n",
       "      <td>Male</td>\n",
       "      <td>27</td>\n",
       "      <td>2</td>\n",
       "      <td>134603.88</td>\n",
       "      <td>1</td>\n",
       "      <td>1</td>\n",
       "      <td>1</td>\n",
       "      <td>71725.73</td>\n",
       "      <td>0</td>\n",
       "    </tr>\n",
       "  </tbody>\n",
       "</table>\n",
       "</div>"
      ],
      "text/plain": [
       "           CustomerId   Surname  CreditScore Geography  Gender  Age  Tenure  \\\n",
       "RowNumber                                                                     \n",
       "1            15634602  Hargrave          619    France  Female   42       2   \n",
       "2            15647311      Hill          608     Spain  Female   41       1   \n",
       "3            15619304      Onio          502    France  Female   42       8   \n",
       "4            15701354      Boni          699    France  Female   39       1   \n",
       "5            15737888  Mitchell          850     Spain  Female   43       2   \n",
       "6            15574012       Chu          645     Spain    Male   44       8   \n",
       "7            15592531  Bartlett          822    France    Male   50       7   \n",
       "8            15656148    Obinna          376   Germany  Female   29       4   \n",
       "9            15792365        He          501    France    Male   44       4   \n",
       "10           15592389        H?          684    France    Male   27       2   \n",
       "\n",
       "             Balance  NumOfProducts  HasCrCard  IsActiveMember  \\\n",
       "RowNumber                                                        \n",
       "1               0.00              1          1               1   \n",
       "2           83807.86              1          0               1   \n",
       "3          159660.80              3          1               0   \n",
       "4               0.00              2          0               0   \n",
       "5          125510.82              1          1               1   \n",
       "6          113755.78              2          1               0   \n",
       "7               0.00              2          1               1   \n",
       "8          115046.74              4          1               0   \n",
       "9          142051.07              2          0               1   \n",
       "10         134603.88              1          1               1   \n",
       "\n",
       "           EstimatedSalary  Exited  \n",
       "RowNumber                           \n",
       "1                101348.88       1  \n",
       "2                112542.58       0  \n",
       "3                113931.57       1  \n",
       "4                 93826.63       0  \n",
       "5                 79084.10       0  \n",
       "6                149756.71       1  \n",
       "7                 10062.80       0  \n",
       "8                119346.88       1  \n",
       "9                 74940.50       0  \n",
       "10                71725.73       0  "
      ]
     },
     "execution_count": 110,
     "metadata": {},
     "output_type": "execute_result"
    }
   ],
   "source": [
    "data = pd.read_csv('/datasets/Churn.csv', index_col='RowNumber')\n",
    "\n",
    "data['Tenure']=data['Tenure'].fillna(0).astype('int64')\n",
    "data.head(10)"
   ]
  },
  {
   "cell_type": "markdown",
   "metadata": {},
   "source": [
    " <span style=\"color:blue\">Решила заменить на 0, тк Tenure-это количество собственности и если значение пропущено, значит скорее всего клиент ничем не владеет,</span>"
   ]
  },
  {
   "cell_type": "code",
   "execution_count": 111,
   "metadata": {},
   "outputs": [
    {
     "data": {
      "text/html": [
       "<div>\n",
       "<style scoped>\n",
       "    .dataframe tbody tr th:only-of-type {\n",
       "        vertical-align: middle;\n",
       "    }\n",
       "\n",
       "    .dataframe tbody tr th {\n",
       "        vertical-align: top;\n",
       "    }\n",
       "\n",
       "    .dataframe thead th {\n",
       "        text-align: right;\n",
       "    }\n",
       "</style>\n",
       "<table border=\"1\" class=\"dataframe\">\n",
       "  <thead>\n",
       "    <tr style=\"text-align: right;\">\n",
       "      <th></th>\n",
       "      <th>CustomerId</th>\n",
       "      <th>CreditScore</th>\n",
       "      <th>Age</th>\n",
       "      <th>Tenure</th>\n",
       "      <th>Balance</th>\n",
       "      <th>NumOfProducts</th>\n",
       "      <th>HasCrCard</th>\n",
       "      <th>IsActiveMember</th>\n",
       "      <th>EstimatedSalary</th>\n",
       "      <th>Exited</th>\n",
       "    </tr>\n",
       "  </thead>\n",
       "  <tbody>\n",
       "    <tr>\n",
       "      <th>count</th>\n",
       "      <td>1.000000e+04</td>\n",
       "      <td>10000.000000</td>\n",
       "      <td>10000.000000</td>\n",
       "      <td>10000.000000</td>\n",
       "      <td>10000.000000</td>\n",
       "      <td>10000.000000</td>\n",
       "      <td>10000.00000</td>\n",
       "      <td>10000.000000</td>\n",
       "      <td>10000.000000</td>\n",
       "      <td>10000.000000</td>\n",
       "    </tr>\n",
       "    <tr>\n",
       "      <th>mean</th>\n",
       "      <td>1.569094e+07</td>\n",
       "      <td>650.528800</td>\n",
       "      <td>38.921800</td>\n",
       "      <td>4.543400</td>\n",
       "      <td>76485.889288</td>\n",
       "      <td>1.530200</td>\n",
       "      <td>0.70550</td>\n",
       "      <td>0.515100</td>\n",
       "      <td>100090.239881</td>\n",
       "      <td>0.203700</td>\n",
       "    </tr>\n",
       "    <tr>\n",
       "      <th>std</th>\n",
       "      <td>7.193619e+04</td>\n",
       "      <td>96.653299</td>\n",
       "      <td>10.487806</td>\n",
       "      <td>3.111573</td>\n",
       "      <td>62397.405202</td>\n",
       "      <td>0.581654</td>\n",
       "      <td>0.45584</td>\n",
       "      <td>0.499797</td>\n",
       "      <td>57510.492818</td>\n",
       "      <td>0.402769</td>\n",
       "    </tr>\n",
       "    <tr>\n",
       "      <th>min</th>\n",
       "      <td>1.556570e+07</td>\n",
       "      <td>350.000000</td>\n",
       "      <td>18.000000</td>\n",
       "      <td>0.000000</td>\n",
       "      <td>0.000000</td>\n",
       "      <td>1.000000</td>\n",
       "      <td>0.00000</td>\n",
       "      <td>0.000000</td>\n",
       "      <td>11.580000</td>\n",
       "      <td>0.000000</td>\n",
       "    </tr>\n",
       "    <tr>\n",
       "      <th>25%</th>\n",
       "      <td>1.562853e+07</td>\n",
       "      <td>584.000000</td>\n",
       "      <td>32.000000</td>\n",
       "      <td>2.000000</td>\n",
       "      <td>0.000000</td>\n",
       "      <td>1.000000</td>\n",
       "      <td>0.00000</td>\n",
       "      <td>0.000000</td>\n",
       "      <td>51002.110000</td>\n",
       "      <td>0.000000</td>\n",
       "    </tr>\n",
       "    <tr>\n",
       "      <th>50%</th>\n",
       "      <td>1.569074e+07</td>\n",
       "      <td>652.000000</td>\n",
       "      <td>37.000000</td>\n",
       "      <td>4.000000</td>\n",
       "      <td>97198.540000</td>\n",
       "      <td>1.000000</td>\n",
       "      <td>1.00000</td>\n",
       "      <td>1.000000</td>\n",
       "      <td>100193.915000</td>\n",
       "      <td>0.000000</td>\n",
       "    </tr>\n",
       "    <tr>\n",
       "      <th>75%</th>\n",
       "      <td>1.575323e+07</td>\n",
       "      <td>718.000000</td>\n",
       "      <td>44.000000</td>\n",
       "      <td>7.000000</td>\n",
       "      <td>127644.240000</td>\n",
       "      <td>2.000000</td>\n",
       "      <td>1.00000</td>\n",
       "      <td>1.000000</td>\n",
       "      <td>149388.247500</td>\n",
       "      <td>0.000000</td>\n",
       "    </tr>\n",
       "    <tr>\n",
       "      <th>max</th>\n",
       "      <td>1.581569e+07</td>\n",
       "      <td>850.000000</td>\n",
       "      <td>92.000000</td>\n",
       "      <td>10.000000</td>\n",
       "      <td>250898.090000</td>\n",
       "      <td>4.000000</td>\n",
       "      <td>1.00000</td>\n",
       "      <td>1.000000</td>\n",
       "      <td>199992.480000</td>\n",
       "      <td>1.000000</td>\n",
       "    </tr>\n",
       "  </tbody>\n",
       "</table>\n",
       "</div>"
      ],
      "text/plain": [
       "         CustomerId   CreditScore           Age        Tenure        Balance  \\\n",
       "count  1.000000e+04  10000.000000  10000.000000  10000.000000   10000.000000   \n",
       "mean   1.569094e+07    650.528800     38.921800      4.543400   76485.889288   \n",
       "std    7.193619e+04     96.653299     10.487806      3.111573   62397.405202   \n",
       "min    1.556570e+07    350.000000     18.000000      0.000000       0.000000   \n",
       "25%    1.562853e+07    584.000000     32.000000      2.000000       0.000000   \n",
       "50%    1.569074e+07    652.000000     37.000000      4.000000   97198.540000   \n",
       "75%    1.575323e+07    718.000000     44.000000      7.000000  127644.240000   \n",
       "max    1.581569e+07    850.000000     92.000000     10.000000  250898.090000   \n",
       "\n",
       "       NumOfProducts    HasCrCard  IsActiveMember  EstimatedSalary  \\\n",
       "count   10000.000000  10000.00000    10000.000000     10000.000000   \n",
       "mean        1.530200      0.70550        0.515100    100090.239881   \n",
       "std         0.581654      0.45584        0.499797     57510.492818   \n",
       "min         1.000000      0.00000        0.000000        11.580000   \n",
       "25%         1.000000      0.00000        0.000000     51002.110000   \n",
       "50%         1.000000      1.00000        1.000000    100193.915000   \n",
       "75%         2.000000      1.00000        1.000000    149388.247500   \n",
       "max         4.000000      1.00000        1.000000    199992.480000   \n",
       "\n",
       "             Exited  \n",
       "count  10000.000000  \n",
       "mean       0.203700  \n",
       "std        0.402769  \n",
       "min        0.000000  \n",
       "25%        0.000000  \n",
       "50%        0.000000  \n",
       "75%        0.000000  \n",
       "max        1.000000  "
      ]
     },
     "execution_count": 111,
     "metadata": {},
     "output_type": "execute_result"
    }
   ],
   "source": [
    "data.describe()"
   ]
  },
  {
   "cell_type": "code",
   "execution_count": 112,
   "metadata": {},
   "outputs": [
    {
     "name": "stdout",
     "output_type": "stream",
     "text": [
      "<class 'pandas.core.frame.DataFrame'>\n",
      "Int64Index: 10000 entries, 1 to 10000\n",
      "Data columns (total 13 columns):\n",
      " #   Column           Non-Null Count  Dtype  \n",
      "---  ------           --------------  -----  \n",
      " 0   CustomerId       10000 non-null  int64  \n",
      " 1   Surname          10000 non-null  object \n",
      " 2   CreditScore      10000 non-null  int64  \n",
      " 3   Geography        10000 non-null  object \n",
      " 4   Gender           10000 non-null  object \n",
      " 5   Age              10000 non-null  int64  \n",
      " 6   Tenure           10000 non-null  int64  \n",
      " 7   Balance          10000 non-null  float64\n",
      " 8   NumOfProducts    10000 non-null  int64  \n",
      " 9   HasCrCard        10000 non-null  int64  \n",
      " 10  IsActiveMember   10000 non-null  int64  \n",
      " 11  EstimatedSalary  10000 non-null  float64\n",
      " 12  Exited           10000 non-null  int64  \n",
      "dtypes: float64(2), int64(8), object(3)\n",
      "memory usage: 1.1+ MB\n"
     ]
    }
   ],
   "source": [
    "data.info()"
   ]
  },
  {
   "cell_type": "code",
   "execution_count": 113,
   "metadata": {},
   "outputs": [
    {
     "data": {
      "image/png": "[encoded data removed]",
      "text/plain": [
       "<Figure size 1440x1080 with 12 Axes>"
      ]
     },
     "metadata": {},
     "output_type": "display_data"
    }
   ],
   "source": [
    "data.hist(bins=50, figsize=(20,15), edgecolor='black', linewidth=2)\n",
    "plt.show()"
   ]
  },
  {
   "cell_type": "markdown",
   "metadata": {},
   "source": [
    "Можно будет удалить три столбца - \"CustomerId\",\"Surname\", которые в нашем случае не несут полезной нагрузки"
   ]
  },
  {
   "cell_type": "code",
   "execution_count": 114,
   "metadata": {},
   "outputs": [
    {
     "data": {
      "text/plain": [
       "(10000, 11)"
      ]
     },
     "execution_count": 114,
     "metadata": {},
     "output_type": "execute_result"
    }
   ],
   "source": [
    "data.drop([\"CustomerId\",\"Surname\"],axis= \"columns\", inplace= True)\n",
    "data.shape"
   ]
  },
  {
   "cell_type": "code",
   "execution_count": 115,
   "metadata": {},
   "outputs": [
    {
     "data": {
      "text/plain": [
       "0"
      ]
     },
     "execution_count": 115,
     "metadata": {},
     "output_type": "execute_result"
    }
   ],
   "source": [
    "data.duplicated().sum()"
   ]
  },
  {
   "cell_type": "markdown",
   "metadata": {},
   "source": [
    "Вывод\n",
    "Отток клиентов - это потеря клиентов, выражающаяся в отсутствии покупок или платежей в течение определенного периода времени. \n",
    "\n",
    "Мы предварительно просмотрели наш набор данных:\n",
    "\n",
    "Дубликатов не найдено, нет необходимости удалять строки.\n",
    "в процессе подготовки объектов к анализу решила удалить столбцы \"CustomerId\",\"Surname\".\n"
   ]
  },
  {
   "cell_type": "markdown",
   "metadata": {},
   "source": [
    "## Исследование задачи"
   ]
  },
  {
   "cell_type": "code",
   "execution_count": 116,
   "metadata": {},
   "outputs": [
    {
     "data": {
      "text/html": [
       "<div>\n",
       "<style scoped>\n",
       "    .dataframe tbody tr th:only-of-type {\n",
       "        vertical-align: middle;\n",
       "    }\n",
       "\n",
       "    .dataframe tbody tr th {\n",
       "        vertical-align: top;\n",
       "    }\n",
       "\n",
       "    .dataframe thead th {\n",
       "        text-align: right;\n",
       "    }\n",
       "</style>\n",
       "<table border=\"1\" class=\"dataframe\">\n",
       "  <thead>\n",
       "    <tr style=\"text-align: right;\">\n",
       "      <th></th>\n",
       "      <th>CreditScore</th>\n",
       "      <th>Geography</th>\n",
       "      <th>Gender</th>\n",
       "      <th>Age</th>\n",
       "      <th>Tenure</th>\n",
       "      <th>Balance</th>\n",
       "      <th>NumOfProducts</th>\n",
       "      <th>HasCrCard</th>\n",
       "      <th>IsActiveMember</th>\n",
       "      <th>EstimatedSalary</th>\n",
       "      <th>Exited</th>\n",
       "    </tr>\n",
       "    <tr>\n",
       "      <th>RowNumber</th>\n",
       "      <th></th>\n",
       "      <th></th>\n",
       "      <th></th>\n",
       "      <th></th>\n",
       "      <th></th>\n",
       "      <th></th>\n",
       "      <th></th>\n",
       "      <th></th>\n",
       "      <th></th>\n",
       "      <th></th>\n",
       "      <th></th>\n",
       "    </tr>\n",
       "  </thead>\n",
       "  <tbody>\n",
       "    <tr>\n",
       "      <th>1</th>\n",
       "      <td>619</td>\n",
       "      <td>France</td>\n",
       "      <td>Female</td>\n",
       "      <td>42</td>\n",
       "      <td>2</td>\n",
       "      <td>0.00</td>\n",
       "      <td>1</td>\n",
       "      <td>1</td>\n",
       "      <td>1</td>\n",
       "      <td>101348.88</td>\n",
       "      <td>1</td>\n",
       "    </tr>\n",
       "    <tr>\n",
       "      <th>2</th>\n",
       "      <td>608</td>\n",
       "      <td>Spain</td>\n",
       "      <td>Female</td>\n",
       "      <td>41</td>\n",
       "      <td>1</td>\n",
       "      <td>83807.86</td>\n",
       "      <td>1</td>\n",
       "      <td>0</td>\n",
       "      <td>1</td>\n",
       "      <td>112542.58</td>\n",
       "      <td>0</td>\n",
       "    </tr>\n",
       "    <tr>\n",
       "      <th>3</th>\n",
       "      <td>502</td>\n",
       "      <td>France</td>\n",
       "      <td>Female</td>\n",
       "      <td>42</td>\n",
       "      <td>8</td>\n",
       "      <td>159660.80</td>\n",
       "      <td>3</td>\n",
       "      <td>1</td>\n",
       "      <td>0</td>\n",
       "      <td>113931.57</td>\n",
       "      <td>1</td>\n",
       "    </tr>\n",
       "    <tr>\n",
       "      <th>4</th>\n",
       "      <td>699</td>\n",
       "      <td>France</td>\n",
       "      <td>Female</td>\n",
       "      <td>39</td>\n",
       "      <td>1</td>\n",
       "      <td>0.00</td>\n",
       "      <td>2</td>\n",
       "      <td>0</td>\n",
       "      <td>0</td>\n",
       "      <td>93826.63</td>\n",
       "      <td>0</td>\n",
       "    </tr>\n",
       "    <tr>\n",
       "      <th>5</th>\n",
       "      <td>850</td>\n",
       "      <td>Spain</td>\n",
       "      <td>Female</td>\n",
       "      <td>43</td>\n",
       "      <td>2</td>\n",
       "      <td>125510.82</td>\n",
       "      <td>1</td>\n",
       "      <td>1</td>\n",
       "      <td>1</td>\n",
       "      <td>79084.10</td>\n",
       "      <td>0</td>\n",
       "    </tr>\n",
       "  </tbody>\n",
       "</table>\n",
       "</div>"
      ],
      "text/plain": [
       "           CreditScore Geography  Gender  Age  Tenure    Balance  \\\n",
       "RowNumber                                                          \n",
       "1                  619    France  Female   42       2       0.00   \n",
       "2                  608     Spain  Female   41       1   83807.86   \n",
       "3                  502    France  Female   42       8  159660.80   \n",
       "4                  699    France  Female   39       1       0.00   \n",
       "5                  850     Spain  Female   43       2  125510.82   \n",
       "\n",
       "           NumOfProducts  HasCrCard  IsActiveMember  EstimatedSalary  Exited  \n",
       "RowNumber                                                                     \n",
       "1                      1          1               1        101348.88       1  \n",
       "2                      1          0               1        112542.58       0  \n",
       "3                      3          1               0        113931.57       1  \n",
       "4                      2          0               0         93826.63       0  \n",
       "5                      1          1               1         79084.10       0  "
      ]
     },
     "execution_count": 116,
     "metadata": {},
     "output_type": "execute_result"
    }
   ],
   "source": [
    "data.head(5)"
   ]
  },
  {
   "cell_type": "markdown",
   "metadata": {},
   "source": [
    "One-hot Encoding\n",
    "\n",
    "Категориальные признаки geography и gender должны быть преобразованы в числовые, нам нужны количественные характеристики, чтобы быть более точными"
   ]
  },
  {
   "cell_type": "code",
   "execution_count": 117,
   "metadata": {},
   "outputs": [
    {
     "data": {
      "text/plain": [
       "France     5014\n",
       "Germany    2509\n",
       "Spain      2477\n",
       "Name: Geography, dtype: int64"
      ]
     },
     "execution_count": 117,
     "metadata": {},
     "output_type": "execute_result"
    }
   ],
   "source": [
    "data['Geography'].value_counts()"
   ]
  },
  {
   "cell_type": "code",
   "execution_count": 118,
   "metadata": {},
   "outputs": [
    {
     "data": {
      "text/plain": [
       "Male      5457\n",
       "Female    4543\n",
       "Name: Gender, dtype: int64"
      ]
     },
     "execution_count": 118,
     "metadata": {},
     "output_type": "execute_result"
    }
   ],
   "source": [
    "data['Gender'].value_counts()"
   ]
  },
  {
   "cell_type": "code",
   "execution_count": 119,
   "metadata": {},
   "outputs": [
    {
     "name": "stdout",
     "output_type": "stream",
     "text": [
      "<class 'pandas.core.frame.DataFrame'>\n",
      "Int64Index: 10000 entries, 1 to 10000\n",
      "Data columns (total 12 columns):\n",
      " #   Column           Non-Null Count  Dtype  \n",
      "---  ------           --------------  -----  \n",
      " 0   CreditScore      10000 non-null  int64  \n",
      " 1   Age              10000 non-null  int64  \n",
      " 2   Tenure           10000 non-null  int64  \n",
      " 3   Balance          10000 non-null  float64\n",
      " 4   NumOfProducts    10000 non-null  int64  \n",
      " 5   HasCrCard        10000 non-null  int64  \n",
      " 6   IsActiveMember   10000 non-null  int64  \n",
      " 7   EstimatedSalary  10000 non-null  float64\n",
      " 8   Exited           10000 non-null  int64  \n",
      " 9   Male             10000 non-null  uint8  \n",
      " 10  Germany          10000 non-null  uint8  \n",
      " 11  Spain            10000 non-null  uint8  \n",
      "dtypes: float64(2), int64(7), uint8(3)\n",
      "memory usage: 810.5 KB\n"
     ]
    }
   ],
   "source": [
    "\n",
    "gender_ohe = pd.get_dummies(data[\"Gender\"], drop_first=True)\n",
    "country_ohe = pd.get_dummies(data[\"Geography\"], drop_first=True)\n",
    "\n",
    "\n",
    "data.drop([\"Gender\", \"Geography\"], axis=1, inplace=True)\n",
    "\n",
    "\n",
    "df_ohe = pd.concat([data, gender_ohe, country_ohe], axis=1)\n",
    "\n",
    "df_ohe.head(5)\n",
    "df_ohe.info()"
   ]
  },
  {
   "cell_type": "markdown",
   "metadata": {},
   "source": [
    "Разделим данные\n",
    "\n",
    "Разделим наши выборки на обучающие, валидационные для выбора гиперпараметров и тестовые, на которых мы будем тестировать нашу модель."
   ]
  },
  {
   "cell_type": "code",
   "execution_count": 120,
   "metadata": {},
   "outputs": [],
   "source": [
    "def split_data(data, target_column):\n",
    "    return data.drop(columns=[target_column], axis=1), data[target_column]"
   ]
  },
  {
   "cell_type": "code",
   "execution_count": 121,
   "metadata": {},
   "outputs": [],
   "source": [
    "features, target = split_data(df_ohe,'Exited')"
   ]
  },
  {
   "cell_type": "markdown",
   "metadata": {},
   "source": [
    "Мы получаем проверочную выборку в размере 20% и снова делим оставшиеся 80%, чтобы получить тестовую выборку. Мы проведем обучение на 60% данных"
   ]
  },
  {
   "cell_type": "code",
   "execution_count": 122,
   "metadata": {},
   "outputs": [],
   "source": [
    "features_df, features_valid, target_df, target_valid = ( \n",
    "                                train_test_split(\n",
    "                                features, target, test_size=0.20, random_state=42)\n",
    ")"
   ]
  },
  {
   "cell_type": "code",
   "execution_count": 123,
   "metadata": {},
   "outputs": [],
   "source": [
    "features_train, features_test, target_train, target_test = ( \n",
    "                                train_test_split(\n",
    "                                features_df, target_df, test_size=0.25, random_state=42)\n",
    ")"
   ]
  },
  {
   "cell_type": "code",
   "execution_count": 124,
   "metadata": {},
   "outputs": [
    {
     "name": "stdout",
     "output_type": "stream",
     "text": [
      "Objects of train: 6000\n",
      "Objects of valid: 2000\n",
      "Objects of test: 2000\n",
      "Sum of objects: 10000\n",
      "\n",
      "Objects of original set (check sum): 10000\n"
     ]
    }
   ],
   "source": [
    "print('Objects of train:', len(features_train))\n",
    "print('Objects of valid:', len(features_valid))\n",
    "print('Objects of test:', len(features_test))\n",
    "print('Sum of objects:', len(features_train) + len(features_test) + len(features_test))\n",
    "print()\n",
    "print('Objects of original set (check sum):', len(df_ohe))"
   ]
  },
  {
   "cell_type": "markdown",
   "metadata": {},
   "source": [
    "Выборка была разделена, мы можем приступить к пробному обучению моделей. В нашей задаче наблюдается сильный классовый дисбаланс, который плохо сказывается на обучении модели.Посмотрим на результаты,  оценим модель по показателю F1. "
   ]
  },
  {
   "cell_type": "markdown",
   "metadata": {},
   "source": [
    "\n",
    "Масштабирование  по всему набору данных может привести к утечке данных, нужно только обучить на train.\n",
    "\n",
    "Мы обучим, а затем применим к нашим образцам"
   ]
  },
  {
   "cell_type": "code",
   "execution_count": 125,
   "metadata": {},
   "outputs": [
    {
     "data": {
      "text/html": [
       "<div>\n",
       "<style scoped>\n",
       "    .dataframe tbody tr th:only-of-type {\n",
       "        vertical-align: middle;\n",
       "    }\n",
       "\n",
       "    .dataframe tbody tr th {\n",
       "        vertical-align: top;\n",
       "    }\n",
       "\n",
       "    .dataframe thead th {\n",
       "        text-align: right;\n",
       "    }\n",
       "</style>\n",
       "<table border=\"1\" class=\"dataframe\">\n",
       "  <thead>\n",
       "    <tr style=\"text-align: right;\">\n",
       "      <th></th>\n",
       "      <th>CreditScore</th>\n",
       "      <th>Age</th>\n",
       "      <th>Tenure</th>\n",
       "      <th>Balance</th>\n",
       "      <th>NumOfProducts</th>\n",
       "      <th>HasCrCard</th>\n",
       "      <th>IsActiveMember</th>\n",
       "      <th>EstimatedSalary</th>\n",
       "      <th>Male</th>\n",
       "      <th>Germany</th>\n",
       "      <th>Spain</th>\n",
       "    </tr>\n",
       "    <tr>\n",
       "      <th>RowNumber</th>\n",
       "      <th></th>\n",
       "      <th></th>\n",
       "      <th></th>\n",
       "      <th></th>\n",
       "      <th></th>\n",
       "      <th></th>\n",
       "      <th></th>\n",
       "      <th></th>\n",
       "      <th></th>\n",
       "      <th></th>\n",
       "      <th></th>\n",
       "    </tr>\n",
       "  </thead>\n",
       "  <tbody>\n",
       "    <tr>\n",
       "      <th>8589</th>\n",
       "      <td>0.626553</td>\n",
       "      <td>-0.948125</td>\n",
       "      <td>7</td>\n",
       "      <td>0.026803</td>\n",
       "      <td>1</td>\n",
       "      <td>1</td>\n",
       "      <td>0</td>\n",
       "      <td>0.389943</td>\n",
       "      <td>0</td>\n",
       "      <td>0</td>\n",
       "      <td>1</td>\n",
       "    </tr>\n",
       "    <tr>\n",
       "      <th>3179</th>\n",
       "      <td>-1.143262</td>\n",
       "      <td>0.006684</td>\n",
       "      <td>4</td>\n",
       "      <td>0.538874</td>\n",
       "      <td>2</td>\n",
       "      <td>1</td>\n",
       "      <td>1</td>\n",
       "      <td>-1.026089</td>\n",
       "      <td>0</td>\n",
       "      <td>0</td>\n",
       "      <td>0</td>\n",
       "    </tr>\n",
       "    <tr>\n",
       "      <th>5201</th>\n",
       "      <td>-1.455583</td>\n",
       "      <td>0.293126</td>\n",
       "      <td>9</td>\n",
       "      <td>0.283178</td>\n",
       "      <td>2</td>\n",
       "      <td>1</td>\n",
       "      <td>0</td>\n",
       "      <td>-1.486725</td>\n",
       "      <td>1</td>\n",
       "      <td>1</td>\n",
       "      <td>0</td>\n",
       "    </tr>\n",
       "    <tr>\n",
       "      <th>8890</th>\n",
       "      <td>-0.747657</td>\n",
       "      <td>0.006684</td>\n",
       "      <td>9</td>\n",
       "      <td>0.833254</td>\n",
       "      <td>1</td>\n",
       "      <td>1</td>\n",
       "      <td>0</td>\n",
       "      <td>-0.246001</td>\n",
       "      <td>0</td>\n",
       "      <td>0</td>\n",
       "      <td>0</td>\n",
       "    </tr>\n",
       "    <tr>\n",
       "      <th>5790</th>\n",
       "      <td>0.387107</td>\n",
       "      <td>1.534377</td>\n",
       "      <td>1</td>\n",
       "      <td>0.000856</td>\n",
       "      <td>1</td>\n",
       "      <td>1</td>\n",
       "      <td>0</td>\n",
       "      <td>-1.006993</td>\n",
       "      <td>0</td>\n",
       "      <td>1</td>\n",
       "      <td>0</td>\n",
       "    </tr>\n",
       "  </tbody>\n",
       "</table>\n",
       "</div>"
      ],
      "text/plain": [
       "           CreditScore       Age  Tenure   Balance  NumOfProducts  HasCrCard  \\\n",
       "RowNumber                                                                      \n",
       "8589          0.626553 -0.948125       7  0.026803              1          1   \n",
       "3179         -1.143262  0.006684       4  0.538874              2          1   \n",
       "5201         -1.455583  0.293126       9  0.283178              2          1   \n",
       "8890         -0.747657  0.006684       9  0.833254              1          1   \n",
       "5790          0.387107  1.534377       1  0.000856              1          1   \n",
       "\n",
       "           IsActiveMember  EstimatedSalary  Male  Germany  Spain  \n",
       "RowNumber                                                         \n",
       "8589                    0         0.389943     0        0      1  \n",
       "3179                    1        -1.026089     0        0      0  \n",
       "5201                    0        -1.486725     1        1      0  \n",
       "8890                    0        -0.246001     0        0      0  \n",
       "5790                    0        -1.006993     0        1      0  "
      ]
     },
     "execution_count": 125,
     "metadata": {},
     "output_type": "execute_result"
    }
   ],
   "source": [
    "numeric = ['CreditScore', 'Age', 'Balance', 'EstimatedSalary']\n",
    "scaler = StandardScaler()\n",
    "scaler.fit(features_train[numeric])\n",
    "pd.options.mode.chained_assignment = None\n",
    "features_train[numeric] = scaler.transform(features_train[numeric])\n",
    "features_train.head()"
   ]
  },
  {
   "cell_type": "markdown",
   "metadata": {},
   "source": [
    "Теперь применим к валидационным данным"
   ]
  },
  {
   "cell_type": "code",
   "execution_count": 126,
   "metadata": {},
   "outputs": [
    {
     "data": {
      "text/html": [
       "<div>\n",
       "<style scoped>\n",
       "    .dataframe tbody tr th:only-of-type {\n",
       "        vertical-align: middle;\n",
       "    }\n",
       "\n",
       "    .dataframe tbody tr th {\n",
       "        vertical-align: top;\n",
       "    }\n",
       "\n",
       "    .dataframe thead th {\n",
       "        text-align: right;\n",
       "    }\n",
       "</style>\n",
       "<table border=\"1\" class=\"dataframe\">\n",
       "  <thead>\n",
       "    <tr style=\"text-align: right;\">\n",
       "      <th></th>\n",
       "      <th>CreditScore</th>\n",
       "      <th>Age</th>\n",
       "      <th>Tenure</th>\n",
       "      <th>Balance</th>\n",
       "      <th>NumOfProducts</th>\n",
       "      <th>HasCrCard</th>\n",
       "      <th>IsActiveMember</th>\n",
       "      <th>EstimatedSalary</th>\n",
       "      <th>Male</th>\n",
       "      <th>Germany</th>\n",
       "      <th>Spain</th>\n",
       "    </tr>\n",
       "    <tr>\n",
       "      <th>RowNumber</th>\n",
       "      <th></th>\n",
       "      <th></th>\n",
       "      <th></th>\n",
       "      <th></th>\n",
       "      <th></th>\n",
       "      <th></th>\n",
       "      <th></th>\n",
       "      <th></th>\n",
       "      <th></th>\n",
       "      <th></th>\n",
       "      <th></th>\n",
       "    </tr>\n",
       "  </thead>\n",
       "  <tbody>\n",
       "    <tr>\n",
       "      <th>6253</th>\n",
       "      <td>-0.581086</td>\n",
       "      <td>-0.661682</td>\n",
       "      <td>3</td>\n",
       "      <td>0.327195</td>\n",
       "      <td>2</td>\n",
       "      <td>0</td>\n",
       "      <td>0</td>\n",
       "      <td>-1.017034</td>\n",
       "      <td>1</td>\n",
       "      <td>1</td>\n",
       "      <td>0</td>\n",
       "    </tr>\n",
       "    <tr>\n",
       "      <th>4685</th>\n",
       "      <td>-0.299998</td>\n",
       "      <td>0.388607</td>\n",
       "      <td>1</td>\n",
       "      <td>-1.218934</td>\n",
       "      <td>2</td>\n",
       "      <td>1</td>\n",
       "      <td>1</td>\n",
       "      <td>0.805136</td>\n",
       "      <td>1</td>\n",
       "      <td>0</td>\n",
       "      <td>0</td>\n",
       "    </tr>\n",
       "    <tr>\n",
       "      <th>1732</th>\n",
       "      <td>-0.529032</td>\n",
       "      <td>0.484088</td>\n",
       "      <td>4</td>\n",
       "      <td>-1.218934</td>\n",
       "      <td>2</td>\n",
       "      <td>1</td>\n",
       "      <td>0</td>\n",
       "      <td>-0.724818</td>\n",
       "      <td>0</td>\n",
       "      <td>0</td>\n",
       "      <td>1</td>\n",
       "    </tr>\n",
       "    <tr>\n",
       "      <th>4743</th>\n",
       "      <td>-1.518047</td>\n",
       "      <td>1.916301</td>\n",
       "      <td>8</td>\n",
       "      <td>0.686002</td>\n",
       "      <td>2</td>\n",
       "      <td>1</td>\n",
       "      <td>1</td>\n",
       "      <td>1.228495</td>\n",
       "      <td>1</td>\n",
       "      <td>1</td>\n",
       "      <td>0</td>\n",
       "    </tr>\n",
       "    <tr>\n",
       "      <th>4522</th>\n",
       "      <td>-0.955870</td>\n",
       "      <td>-1.139087</td>\n",
       "      <td>7</td>\n",
       "      <td>0.779430</td>\n",
       "      <td>1</td>\n",
       "      <td>1</td>\n",
       "      <td>1</td>\n",
       "      <td>0.252697</td>\n",
       "      <td>0</td>\n",
       "      <td>0</td>\n",
       "      <td>1</td>\n",
       "    </tr>\n",
       "  </tbody>\n",
       "</table>\n",
       "</div>"
      ],
      "text/plain": [
       "           CreditScore       Age  Tenure   Balance  NumOfProducts  HasCrCard  \\\n",
       "RowNumber                                                                      \n",
       "6253         -0.581086 -0.661682       3  0.327195              2          0   \n",
       "4685         -0.299998  0.388607       1 -1.218934              2          1   \n",
       "1732         -0.529032  0.484088       4 -1.218934              2          1   \n",
       "4743         -1.518047  1.916301       8  0.686002              2          1   \n",
       "4522         -0.955870 -1.139087       7  0.779430              1          1   \n",
       "\n",
       "           IsActiveMember  EstimatedSalary  Male  Germany  Spain  \n",
       "RowNumber                                                         \n",
       "6253                    0        -1.017034     1        1      0  \n",
       "4685                    1         0.805136     1        0      0  \n",
       "1732                    0        -0.724818     0        0      1  \n",
       "4743                    1         1.228495     1        1      0  \n",
       "4522                    1         0.252697     0        0      1  "
      ]
     },
     "execution_count": 126,
     "metadata": {},
     "output_type": "execute_result"
    }
   ],
   "source": [
    "features_valid[numeric] = scaler.transform(features_valid[numeric])\n",
    "features_valid.head()"
   ]
  },
  {
   "cell_type": "markdown",
   "metadata": {},
   "source": [
    "Теперь применим к тестовым данным"
   ]
  },
  {
   "cell_type": "code",
   "execution_count": 127,
   "metadata": {},
   "outputs": [
    {
     "data": {
      "text/html": [
       "<div>\n",
       "<style scoped>\n",
       "    .dataframe tbody tr th:only-of-type {\n",
       "        vertical-align: middle;\n",
       "    }\n",
       "\n",
       "    .dataframe tbody tr th {\n",
       "        vertical-align: top;\n",
       "    }\n",
       "\n",
       "    .dataframe thead th {\n",
       "        text-align: right;\n",
       "    }\n",
       "</style>\n",
       "<table border=\"1\" class=\"dataframe\">\n",
       "  <thead>\n",
       "    <tr style=\"text-align: right;\">\n",
       "      <th></th>\n",
       "      <th>CreditScore</th>\n",
       "      <th>Age</th>\n",
       "      <th>Tenure</th>\n",
       "      <th>Balance</th>\n",
       "      <th>NumOfProducts</th>\n",
       "      <th>HasCrCard</th>\n",
       "      <th>IsActiveMember</th>\n",
       "      <th>EstimatedSalary</th>\n",
       "      <th>Male</th>\n",
       "      <th>Germany</th>\n",
       "      <th>Spain</th>\n",
       "    </tr>\n",
       "    <tr>\n",
       "      <th>RowNumber</th>\n",
       "      <th></th>\n",
       "      <th></th>\n",
       "      <th></th>\n",
       "      <th></th>\n",
       "      <th></th>\n",
       "      <th></th>\n",
       "      <th></th>\n",
       "      <th></th>\n",
       "      <th></th>\n",
       "      <th></th>\n",
       "      <th></th>\n",
       "    </tr>\n",
       "  </thead>\n",
       "  <tbody>\n",
       "    <tr>\n",
       "      <th>3189</th>\n",
       "      <td>1.553103</td>\n",
       "      <td>-0.661682</td>\n",
       "      <td>4</td>\n",
       "      <td>-0.017150</td>\n",
       "      <td>1</td>\n",
       "      <td>1</td>\n",
       "      <td>1</td>\n",
       "      <td>-1.084803</td>\n",
       "      <td>0</td>\n",
       "      <td>0</td>\n",
       "      <td>0</td>\n",
       "    </tr>\n",
       "    <tr>\n",
       "      <th>8294</th>\n",
       "      <td>1.188729</td>\n",
       "      <td>-1.043606</td>\n",
       "      <td>4</td>\n",
       "      <td>0.231074</td>\n",
       "      <td>1</td>\n",
       "      <td>0</td>\n",
       "      <td>1</td>\n",
       "      <td>-1.368802</td>\n",
       "      <td>0</td>\n",
       "      <td>1</td>\n",
       "      <td>0</td>\n",
       "    </tr>\n",
       "    <tr>\n",
       "      <th>1711</th>\n",
       "      <td>1.834191</td>\n",
       "      <td>-1.043606</td>\n",
       "      <td>8</td>\n",
       "      <td>0.935642</td>\n",
       "      <td>1</td>\n",
       "      <td>1</td>\n",
       "      <td>0</td>\n",
       "      <td>-0.362538</td>\n",
       "      <td>1</td>\n",
       "      <td>0</td>\n",
       "      <td>1</td>\n",
       "    </tr>\n",
       "    <tr>\n",
       "      <th>7511</th>\n",
       "      <td>1.521871</td>\n",
       "      <td>-0.279759</td>\n",
       "      <td>1</td>\n",
       "      <td>-1.218934</td>\n",
       "      <td>2</td>\n",
       "      <td>1</td>\n",
       "      <td>1</td>\n",
       "      <td>1.025781</td>\n",
       "      <td>1</td>\n",
       "      <td>0</td>\n",
       "      <td>0</td>\n",
       "    </tr>\n",
       "    <tr>\n",
       "      <th>1462</th>\n",
       "      <td>-0.424926</td>\n",
       "      <td>-0.470721</td>\n",
       "      <td>4</td>\n",
       "      <td>-1.218934</td>\n",
       "      <td>2</td>\n",
       "      <td>1</td>\n",
       "      <td>0</td>\n",
       "      <td>1.233214</td>\n",
       "      <td>1</td>\n",
       "      <td>0</td>\n",
       "      <td>1</td>\n",
       "    </tr>\n",
       "  </tbody>\n",
       "</table>\n",
       "</div>"
      ],
      "text/plain": [
       "           CreditScore       Age  Tenure   Balance  NumOfProducts  HasCrCard  \\\n",
       "RowNumber                                                                      \n",
       "3189          1.553103 -0.661682       4 -0.017150              1          1   \n",
       "8294          1.188729 -1.043606       4  0.231074              1          0   \n",
       "1711          1.834191 -1.043606       8  0.935642              1          1   \n",
       "7511          1.521871 -0.279759       1 -1.218934              2          1   \n",
       "1462         -0.424926 -0.470721       4 -1.218934              2          1   \n",
       "\n",
       "           IsActiveMember  EstimatedSalary  Male  Germany  Spain  \n",
       "RowNumber                                                         \n",
       "3189                    1        -1.084803     0        0      0  \n",
       "8294                    1        -1.368802     0        1      0  \n",
       "1711                    0        -0.362538     1        0      1  \n",
       "7511                    1         1.025781     1        0      0  \n",
       "1462                    0         1.233214     1        0      1  "
      ]
     },
     "execution_count": 127,
     "metadata": {},
     "output_type": "execute_result"
    }
   ],
   "source": [
    "features_test[numeric] = scaler.transform(features_test[numeric])\n",
    "features_test.head()"
   ]
  },
  {
   "cell_type": "markdown",
   "metadata": {},
   "source": [
    "Пробное обучение моделей без учета классового дисбаланса"
   ]
  },
  {
   "cell_type": "markdown",
   "metadata": {},
   "source": [
    "Logistic regression"
   ]
  },
  {
   "cell_type": "code",
   "execution_count": 128,
   "metadata": {},
   "outputs": [
    {
     "name": "stdout",
     "output_type": "stream",
     "text": [
      "F1: 0.29158878504672897\n"
     ]
    }
   ],
   "source": [
    "model = LogisticRegression(random_state=12345, solver='liblinear')\n",
    "model.fit(features_train, target_train)\n",
    "predicted_valid = model.predict(features_valid)\n",
    "print(\"F1:\", f1_score(target_valid, predicted_valid))"
   ]
  },
  {
   "cell_type": "markdown",
   "metadata": {},
   "source": [
    "Random forest"
   ]
  },
  {
   "cell_type": "code",
   "execution_count": 129,
   "metadata": {},
   "outputs": [
    {
     "name": "stdout",
     "output_type": "stream",
     "text": [
      "max_depth: 1 F1: 0.0\n",
      "max_depth: 2 F1: 0.2\n",
      "max_depth: 3 F1: 0.23111111111111107\n",
      "max_depth: 4 F1: 0.3610547667342799\n",
      "max_depth: 5 F1: 0.4220532319391635\n",
      "max_depth: 6 F1: 0.4883303411131059\n",
      "max_depth: 7 F1: 0.531986531986532\n",
      "max_depth: 8 F1: 0.5636070853462158\n",
      "max_depth: 9 F1: 0.5585874799357946\n",
      "max_depth: 10 F1: 0.5544871794871794\n",
      "max_depth: 11 F1: 0.5741324921135647\n",
      "max_depth: 12 F1: 0.5678627145085803\n",
      "max_depth: 13 F1: 0.5709828393135725\n",
      "max_depth: 14 F1: 0.5616224648985959\n",
      "max_depth: 15 F1: 0.5692068429237946\n",
      "max_depth: 16 F1: 0.5691573926868045\n",
      "max_depth: 17 F1: 0.5692068429237946\n",
      "max_depth: 18 F1: 0.5749613601236476\n",
      "max_depth: 19 F1: 0.5700934579439252\n"
     ]
    }
   ],
   "source": [
    "for max_depth in range(1,20,1):\n",
    "    model=RandomForestClassifier(max_depth=max_depth,n_estimators=50,random_state=1234)\n",
    "    model.fit(features_train, target_train)\n",
    "  \n",
    "    model.fit(features_train, target_train)\n",
    "    predicted_valid = model.predict(features_valid)\n",
    "    print('max_depth:',max_depth,\"F1:\", f1_score(target_valid, predicted_valid))"
   ]
  },
  {
   "cell_type": "code",
   "execution_count": 130,
   "metadata": {},
   "outputs": [
    {
     "name": "stdout",
     "output_type": "stream",
     "text": [
      "estim 1 F1: 0.4868804664723032\n",
      "estim 3 F1: 0.5365853658536586\n",
      "estim 5 F1: 0.5555555555555556\n",
      "estim 7 F1: 0.5633802816901408\n",
      "estim 9 F1: 0.5536\n",
      "estim 11 F1: 0.5736925515055467\n",
      "estim 13 F1: 0.5700636942675159\n",
      "estim 15 F1: 0.5650793650793651\n",
      "estim 17 F1: 0.5741324921135647\n",
      "estim 19 F1: 0.5691823899371069\n",
      "estim 21 F1: 0.5627980922098569\n",
      "estim 23 F1: 0.5655608214849921\n",
      "estim 25 F1: 0.5627980922098569\n",
      "estim 27 F1: 0.5627980922098569\n",
      "estim 29 F1: 0.5641838351822505\n",
      "estim 31 F1: 0.5718799368088467\n",
      "estim 33 F1: 0.5718799368088467\n",
      "estim 35 F1: 0.5750394944707741\n",
      "estim 37 F1: 0.5691573926868045\n",
      "estim 39 F1: 0.5723370429252782\n",
      "estim 41 F1: 0.5728000000000001\n",
      "estim 43 F1: 0.5768621236133121\n",
      "estim 45 F1: 0.5759493670886077\n",
      "estim 47 F1: 0.5750394944707741\n",
      "estim 49 F1: 0.5759493670886077\n"
     ]
    }
   ],
   "source": [
    "for estim in range(1,50,2):\n",
    "    model=RandomForestClassifier(max_depth=11,n_estimators=estim,random_state=1234)\n",
    "    model.fit(features_train, target_train)\n",
    "    predicted_valid = model.predict(features_valid)\n",
    "    print('estim',estim,'F1:',f1_score(target_valid, predicted_valid))"
   ]
  },
  {
   "cell_type": "markdown",
   "metadata": {},
   "source": [
    "Вывод: лучшее значение max_depth=11 при котором F1=0.5741 и n_estimators=49 при котором F1=0.575"
   ]
  },
  {
   "cell_type": "markdown",
   "metadata": {},
   "source": [
    "Вывод\n",
    "\n",
    "\n",
    "Перед нами стоит задача классификации. Чтобы улучшить результаты прогнозирования и облегчить обучение модели, мы преобразовали данные:\n",
    "\n",
    "\n",
    ", проведено кодирование категориальных переменных\n",
    ", проведено масштабирование количественных переменных\n",
    ", разделены выборки в соотношении 60%: 20%: 20% - обучение, валидация для выбора гиперпараметров и верификации модели, тест - для окончательной верификации модели и оценки\n",
    "Мы попытались обучить модели на объектах с дисбалансом классов. Теперь попробую избавиться от этой проблемы, выбрав гиперпараметры модели."
   ]
  },
  {
   "cell_type": "markdown",
   "metadata": {},
   "source": [
    "## Борьба с дисбалансом"
   ]
  },
  {
   "cell_type": "code",
   "execution_count": 131,
   "metadata": {},
   "outputs": [
    {
     "data": {
      "text/html": [
       "<div>\n",
       "<style scoped>\n",
       "    .dataframe tbody tr th:only-of-type {\n",
       "        vertical-align: middle;\n",
       "    }\n",
       "\n",
       "    .dataframe tbody tr th {\n",
       "        vertical-align: top;\n",
       "    }\n",
       "\n",
       "    .dataframe thead th {\n",
       "        text-align: right;\n",
       "    }\n",
       "</style>\n",
       "<table border=\"1\" class=\"dataframe\">\n",
       "  <thead>\n",
       "    <tr style=\"text-align: right;\">\n",
       "      <th></th>\n",
       "      <th>Exited</th>\n",
       "    </tr>\n",
       "  </thead>\n",
       "  <tbody>\n",
       "    <tr>\n",
       "      <th>0</th>\n",
       "      <td>7963</td>\n",
       "    </tr>\n",
       "    <tr>\n",
       "      <th>1</th>\n",
       "      <td>2037</td>\n",
       "    </tr>\n",
       "  </tbody>\n",
       "</table>\n",
       "</div>"
      ],
      "text/plain": [
       "   Exited\n",
       "0    7963\n",
       "1    2037"
      ]
     },
     "execution_count": 131,
     "metadata": {},
     "output_type": "execute_result"
    }
   ],
   "source": [
    "data['Exited'].value_counts().to_frame()"
   ]
  },
  {
   "cell_type": "markdown",
   "metadata": {},
   "source": [
    "Разделю обучающую выборку на отрицательные и положительные объекты\n",
    "скопируем положительные объекты несколько раз\n",
    "с учетом полученных данных, создадим новую обучающую выборку\n",
    "перетасуем данные"
   ]
  },
  {
   "cell_type": "code",
   "execution_count": 132,
   "metadata": {},
   "outputs": [
    {
     "name": "stdout",
     "output_type": "stream",
     "text": [
      "(10924, 11)\n",
      "(10924,)\n"
     ]
    }
   ],
   "source": [
    "def upsample(features, target, repeat):\n",
    "    \n",
    "    features_zeros = features[target == 0]\n",
    "    features_ones = features[target == 1]\n",
    "    target_zeros = target[target == 0]\n",
    "    target_ones = target[target == 1]\n",
    "    \n",
    "    features_upsampled = pd.concat([features_zeros] + [features_ones] * repeat)\n",
    "    target_upsampled = pd.concat([target_zeros] + [target_ones] * repeat)\n",
    "    \n",
    "    features_upsampled = shuffle(features_upsampled, random_state=12345)\n",
    "    target_upsampled = shuffle(target_upsampled, random_state=12345)\n",
    "    \n",
    "    return features_upsampled, target_upsampled\n",
    "\n",
    "    \n",
    "    \n",
    "features_upsampled, target_upsampled = upsample(features_train, target_train, 5)\n",
    "\n",
    "print(features_upsampled.shape)\n",
    "print(target_upsampled.shape)"
   ]
  },
  {
   "cell_type": "code",
   "execution_count": 133,
   "metadata": {},
   "outputs": [],
   "source": [
    "from collections import Counter\n",
    "from sklearn.datasets import make_classification\n",
    "from matplotlib import pyplot\n",
    "from numpy import where"
   ]
  },
  {
   "cell_type": "code",
   "execution_count": 134,
   "metadata": {},
   "outputs": [
    {
     "name": "stdout",
     "output_type": "stream",
     "text": [
      "Counter({1: 6155, 0: 4769})\n"
     ]
    }
   ],
   "source": [
    "counter = Counter(target_upsampled)\n",
    "print(counter)"
   ]
  },
  {
   "cell_type": "markdown",
   "metadata": {},
   "source": [
    "Logistic regression"
   ]
  },
  {
   "cell_type": "code",
   "execution_count": 135,
   "metadata": {},
   "outputs": [
    {
     "name": "stdout",
     "output_type": "stream",
     "text": [
      "F1: 0.4695121951219512\n"
     ]
    }
   ],
   "source": [
    "model = LogisticRegression(random_state=12345, solver='liblinear')\n",
    "model.fit(features_upsampled, target_upsampled)\n",
    "predicted_valid = model.predict(features_valid)\n",
    "print(\"F1:\", f1_score(target_valid, predicted_valid))"
   ]
  },
  {
   "cell_type": "markdown",
   "metadata": {},
   "source": [
    "Мы наблюдаем небольшое увеличение показателя, близкое к тому, которое мы получили, указав параметр class_weight"
   ]
  },
  {
   "cell_type": "markdown",
   "metadata": {},
   "source": [
    "Random Forest"
   ]
  },
  {
   "cell_type": "code",
   "execution_count": 136,
   "metadata": {
    "scrolled": true
   },
   "outputs": [
    {
     "name": "stdout",
     "output_type": "stream",
     "text": [
      "max_depth: 1 F1: 0.5469061876247505\n",
      "max_depth: 2 F1: 0.5657894736842105\n",
      "max_depth: 3 F1: 0.5749761222540593\n",
      "max_depth: 4 F1: 0.5891325071496663\n",
      "max_depth: 5 F1: 0.6061814556331007\n",
      "max_depth: 6 F1: 0.6073926073926074\n",
      "max_depth: 7 F1: 0.6174089068825911\n",
      "max_depth: 8 F1: 0.6208333333333333\n",
      "max_depth: 9 F1: 0.6186895810955961\n",
      "max_depth: 10 F1: 0.6195652173913043\n",
      "max_depth: 11 F1: 0.6266968325791855\n",
      "max_depth: 12 F1: 0.6171967020023558\n",
      "max_depth: 13 F1: 0.6002460024600246\n",
      "max_depth: 14 F1: 0.601010101010101\n",
      "max_depth: 15 F1: 0.6010230179028133\n",
      "max_depth: 16 F1: 0.6028460543337646\n",
      "max_depth: 17 F1: 0.6236559139784945\n",
      "max_depth: 18 F1: 0.6032608695652175\n",
      "max_depth: 19 F1: 0.6091644204851752\n",
      "CPU times: user 6.98 s, sys: 99.1 ms, total: 7.07 s\n",
      "Wall time: 7.12 s\n"
     ]
    }
   ],
   "source": [
    "%%time\n",
    "\n",
    "for max_depth in range(1,20,1):\n",
    "\n",
    "    model=RandomForestClassifier(class_weight='balanced',max_depth=max_depth,n_estimators=50,random_state=1234)\n",
    "    model.fit(features_upsampled, target_upsampled)\n",
    "    predicted_valid = model.predict(features_valid)\n",
    "    print('max_depth:',max_depth,\"F1:\", f1_score(target_valid, predicted_valid))"
   ]
  },
  {
   "cell_type": "code",
   "execution_count": 137,
   "metadata": {},
   "outputs": [
    {
     "name": "stdout",
     "output_type": "stream",
     "text": [
      "estim 1 F1: 0.5189873417721519\n",
      "estim 2 F1: 0.5071868583162218\n",
      "estim 3 F1: 0.5447070914696814\n",
      "estim 4 F1: 0.5515743756786102\n",
      "estim 5 F1: 0.5723612622415669\n",
      "estim 6 F1: 0.5944751381215468\n",
      "estim 7 F1: 0.6031042128603104\n",
      "estim 8 F1: 0.5962596259625963\n",
      "estim 9 F1: 0.5991189427312775\n",
      "estim 10 F1: 0.6116071428571428\n",
      "estim 11 F1: 0.6068660022148393\n",
      "estim 12 F1: 0.6124721603563476\n",
      "estim 13 F1: 0.6107382550335572\n",
      "estim 14 F1: 0.6134831460674157\n",
      "estim 15 F1: 0.6164229471316085\n",
      "estim 16 F1: 0.6125714285714287\n",
      "estim 17 F1: 0.6169491525423729\n",
      "estim 18 F1: 0.6174801362088536\n",
      "estim 19 F1: 0.6127946127946129\n",
      "estim 20 F1: 0.6150392817059482\n",
      "estim 21 F1: 0.6159014557670772\n",
      "estim 22 F1: 0.6159014557670772\n",
      "estim 23 F1: 0.6138392857142858\n",
      "estim 24 F1: 0.6192090395480225\n",
      "estim 25 F1: 0.6129398410896708\n",
      "estim 26 F1: 0.6167800453514739\n",
      "estim 27 F1: 0.6139954853273139\n",
      "estim 28 F1: 0.6148648648648648\n",
      "estim 29 F1: 0.6155580608793687\n",
      "estim 30 F1: 0.607909604519774\n",
      "estim 31 F1: 0.6145124716553287\n",
      "estim 32 F1: 0.6129398410896708\n",
      "estim 33 F1: 0.6129398410896708\n",
      "estim 34 F1: 0.6108597285067873\n",
      "estim 35 F1: 0.6160815402038504\n",
      "estim 36 F1: 0.6159090909090909\n",
      "estim 37 F1: 0.6167800453514739\n",
      "estim 38 F1: 0.6192090395480225\n",
      "estim 39 F1: 0.6167800453514739\n",
      "estim 40 F1: 0.6153846153846154\n",
      "estim 41 F1: 0.6204545454545456\n",
      "estim 42 F1: 0.621315192743764\n",
      "estim 43 F1: 0.621867881548975\n",
      "estim 44 F1: 0.621315192743764\n",
      "estim 45 F1: 0.6268320180383313\n",
      "estim 46 F1: 0.6258503401360545\n",
      "estim 47 F1: 0.6274065685164213\n",
      "estim 48 F1: 0.6274065685164213\n",
      "estim 49 F1: 0.6259887005649718\n",
      "estim 50 F1: 0.6266968325791855\n",
      "estim 51 F1: 0.626560726447219\n",
      "estim 52 F1: 0.6227272727272727\n",
      "estim 53 F1: 0.6241457858769931\n",
      "estim 54 F1: 0.6271379703534778\n",
      "estim 55 F1: 0.6296715741789355\n",
      "estim 56 F1: 0.6294184720638539\n",
      "estim 57 F1: 0.6296715741789355\n",
      "estim 58 F1: 0.6295454545454545\n",
      "estim 59 F1: 0.626560726447219\n",
      "CPU times: user 14.6 s, sys: 69.7 ms, total: 14.7 s\n",
      "Wall time: 14.7 s\n"
     ]
    }
   ],
   "source": [
    "%%time\n",
    "\n",
    "for estim in range(1,60,1):\n",
    "\n",
    "    model=RandomForestClassifier(class_weight='balanced',max_depth=11,n_estimators=estim,random_state=1234)\n",
    "    model.fit(features_upsampled, target_upsampled)\n",
    "    predicted_valid = model.predict(features_valid)\n",
    "    print('estim',estim,\"F1:\", f1_score(target_valid, predicted_valid))"
   ]
  },
  {
   "cell_type": "code",
   "execution_count": 138,
   "metadata": {},
   "outputs": [
    {
     "name": "stdout",
     "output_type": "stream",
     "text": [
      "F1: 0.626560726447219\n",
      "CPU times: user 490 ms, sys: 3.87 ms, total: 494 ms\n",
      "Wall time: 503 ms\n"
     ]
    }
   ],
   "source": [
    "%%time\n",
    "\n",
    "\n",
    "model_forest=RandomForestClassifier(class_weight='balanced',max_depth=11,n_estimators=55,random_state=1234)\n",
    "model.fit(features_upsampled, target_upsampled)\n",
    "predicted_valid = model.predict(features_valid)\n",
    "print(\"F1:\", f1_score(target_valid, predicted_valid))"
   ]
  },
  {
   "cell_type": "markdown",
   "metadata": {},
   "source": [
    "Здесь также есть улучшение"
   ]
  },
  {
   "cell_type": "markdown",
   "metadata": {},
   "source": [
    "Downsampling\n",
    "\n",
    "Воспользуемся функцией, которая выполняет следующие преобразования:\n",
    "\n",
    "разделим обучающую выборку на отрицательные и положительные объекты\n",
    "случайным образом отбросим некоторые из отрицательных объектов\n",
    "с учетом полученных данных, создадим новую обучающую выборку\n",
    "перетасуем данные"
   ]
  },
  {
   "cell_type": "code",
   "execution_count": 139,
   "metadata": {},
   "outputs": [
    {
     "name": "stdout",
     "output_type": "stream",
     "text": [
      "(1708, 11)\n",
      "(1708,)\n"
     ]
    }
   ],
   "source": [
    "def downsample(features, target, fraction):\n",
    "    features_zeros = features[target == 0]\n",
    "    features_ones = features[target == 1]\n",
    "    target_zeros = target[target == 0]\n",
    "    target_ones = target[target == 1]\n",
    "\n",
    "    features_sample = features_zeros.sample(frac=0.1, random_state=12345)\n",
    "    target_sample = target_zeros.sample(frac=0.1, random_state=12345)\n",
    "    \n",
    "    features_downsampled = pd.concat([features_sample] + [features_ones])\n",
    "    target_downsampled = pd.concat([target_sample] + [target_ones])\n",
    "    \n",
    "    features_downsampled = shuffle(features_downsampled, random_state=12345)\n",
    "    target_downsampled = shuffle(target_downsampled, random_state=12345)\n",
    "    \n",
    "\n",
    "    \n",
    "    return features_downsampled, target_downsampled\n",
    "\n",
    "features_downsampled, target_downsampled = downsample(features_train, target_train, 0.1)\n",
    "\n",
    "print(features_downsampled.shape)\n",
    "print(target_downsampled.shape)"
   ]
  },
  {
   "cell_type": "code",
   "execution_count": 140,
   "metadata": {},
   "outputs": [
    {
     "name": "stdout",
     "output_type": "stream",
     "text": [
      "Counter({1: 1231, 0: 477})\n"
     ]
    }
   ],
   "source": [
    "counter = Counter(target_downsampled)\n",
    "print(counter)"
   ]
  },
  {
   "cell_type": "markdown",
   "metadata": {},
   "source": [
    " <span style=\"color:blue\">Получается, что на наших данных upsample работает лучше чем downsample</span>"
   ]
  },
  {
   "cell_type": "markdown",
   "metadata": {},
   "source": [
    "Logistic regression"
   ]
  },
  {
   "cell_type": "code",
   "execution_count": 141,
   "metadata": {},
   "outputs": [
    {
     "name": "stdout",
     "output_type": "stream",
     "text": [
      "F1: 0.4006550218340612\n"
     ]
    }
   ],
   "source": [
    "model = LogisticRegression(random_state=12345, solver='liblinear')\n",
    "model.fit(features_downsampled, target_downsampled)\n",
    "predicted_valid = model.predict(features_valid)\n",
    "print(\"F1:\", f1_score(target_valid, predicted_valid))"
   ]
  },
  {
   "cell_type": "markdown",
   "metadata": {},
   "source": [
    "Изменим порог\n",
    "Для удобства мы переведем близость к классам в вероятность классов (у нас есть два класса - 0 и 1). Вероятности класса \"1\" нам достаточно. По умолчанию он равен 0,5 - попробуем другие параметры, например, до 0,95"
   ]
  },
  {
   "cell_type": "markdown",
   "metadata": {},
   "source": [
    "Logistic regression"
   ]
  },
  {
   "cell_type": "code",
   "execution_count": 142,
   "metadata": {},
   "outputs": [
    {
     "name": "stdout",
     "output_type": "stream",
     "text": [
      "Threshold = 0.00 | Precision = 0.197, Recall = 1.000 | F1-score = 0.328\n",
      "Threshold = 0.05 | Precision = 0.213, Recall = 0.980 | F1-score = 0.349\n",
      "Threshold = 0.10 | Precision = 0.259, Recall = 0.924 | F1-score = 0.405\n",
      "Threshold = 0.15 | Precision = 0.309, Recall = 0.832 | F1-score = 0.451\n",
      "Threshold = 0.20 | Precision = 0.375, Recall = 0.728 | F1-score = 0.495\n",
      "Threshold = 0.25 | Precision = 0.418, Recall = 0.616 | F1-score = 0.498\n",
      "Threshold = 0.30 | Precision = 0.485, Recall = 0.524 | F1-score = 0.504\n",
      "Threshold = 0.35 | Precision = 0.514, Recall = 0.430 | F1-score = 0.468\n",
      "Threshold = 0.40 | Precision = 0.539, Recall = 0.331 | F1-score = 0.410\n",
      "Threshold = 0.45 | Precision = 0.546, Recall = 0.257 | F1-score = 0.349\n",
      "Threshold = 0.50 | Precision = 0.549, Recall = 0.198 | F1-score = 0.292\n",
      "Threshold = 0.55 | Precision = 0.634, Recall = 0.150 | F1-score = 0.243\n",
      "Threshold = 0.60 | Precision = 0.662, Recall = 0.120 | F1-score = 0.203\n",
      "Threshold = 0.65 | Precision = 0.609, Recall = 0.071 | F1-score = 0.128\n",
      "Threshold = 0.70 | Precision = 0.708, Recall = 0.043 | F1-score = 0.082\n",
      "Threshold = 0.75 | Precision = 0.714, Recall = 0.025 | F1-score = 0.049\n",
      "Threshold = 0.80 | Precision = 0.625, Recall = 0.013 | F1-score = 0.025\n",
      "Threshold = 0.85 | Precision = 0.333, Recall = 0.003 | F1-score = 0.005\n",
      "Threshold = 0.90 | Precision = 0.000, Recall = 0.000 | F1-score = 0.000\n"
     ]
    },
    {
     "data": {
      "image/png": "[encoded data removed]",
      "text/plain": [
       "<Figure size 720x720 with 1 Axes>"
      ]
     },
     "metadata": {},
     "output_type": "display_data"
    }
   ],
   "source": [
    "model = LogisticRegression(random_state=42, solver='liblinear')\n",
    "model.fit(features_train, target_train)\n",
    "probabilities_valid = model.predict_proba(features_valid)\n",
    "probabilities_one_valid = probabilities_valid[:, 1]\n",
    "\n",
    "for threshold in np.arange(0, 0.95, 0.05):\n",
    "    predicted_valid = probabilities_one_valid > threshold\n",
    "    precision = precision_score(target_valid, predicted_valid)\n",
    "    recall = recall_score(target_valid, predicted_valid)\n",
    "    f1 = f1_score(target_valid, predicted_valid)\n",
    "    print(\"Threshold = {:.2f} | Precision = {:.3f}, Recall = {:.3f} | F1-score = {:.3f}\".format(\n",
    "        threshold, precision, recall, f1))\n",
    "\n",
    "precision, recall, thresholds = precision_recall_curve(target_valid, probabilities_valid[:, 1])    \n",
    "plt.figure(figsize=(10, 10))\n",
    "plt.step(recall, precision, where='post')\n",
    "plt.xlabel('Recall')\n",
    "plt.ylabel('Precision')\n",
    "plt.ylim([0.0, 1.05])\n",
    "plt.xlim([0.0, 1.0])\n",
    "plt.title('PR curve')\n",
    "plt.show() "
   ]
  },
  {
   "cell_type": "markdown",
   "metadata": {},
   "source": [
    "При пороге 0 полнота равна 1 - все ответы положительные. При пороге 0,85 модель перестает давать правильные ответы. Самое высокое значение F1 наблюдается при пороге 0,25"
   ]
  },
  {
   "cell_type": "markdown",
   "metadata": {},
   "source": [
    "Random forest"
   ]
  },
  {
   "cell_type": "code",
   "execution_count": 143,
   "metadata": {},
   "outputs": [
    {
     "name": "stdout",
     "output_type": "stream",
     "text": [
      "Threshold = 0.00 | Precision = 0.278, Recall = 0.908 | F1-score = 0.426\n",
      "Threshold = 0.05 | Precision = 0.278, Recall = 0.908 | F1-score = 0.426\n",
      "Threshold = 0.10 | Precision = 0.372, Recall = 0.804 | F1-score = 0.509\n",
      "Threshold = 0.15 | Precision = 0.372, Recall = 0.804 | F1-score = 0.509\n",
      "Threshold = 0.20 | Precision = 0.463, Recall = 0.718 | F1-score = 0.563\n",
      "Threshold = 0.25 | Precision = 0.463, Recall = 0.718 | F1-score = 0.563\n",
      "Threshold = 0.30 | Precision = 0.553, Recall = 0.641 | F1-score = 0.594\n",
      "Threshold = 0.35 | Precision = 0.553, Recall = 0.641 | F1-score = 0.594\n",
      "Threshold = 0.40 | Precision = 0.607, Recall = 0.522 | F1-score = 0.561\n",
      "Threshold = 0.45 | Precision = 0.607, Recall = 0.522 | F1-score = 0.561\n",
      "Threshold = 0.50 | Precision = 0.713, Recall = 0.430 | F1-score = 0.537\n",
      "Threshold = 0.55 | Precision = 0.713, Recall = 0.430 | F1-score = 0.537\n",
      "Threshold = 0.60 | Precision = 0.770, Recall = 0.366 | F1-score = 0.497\n",
      "Threshold = 0.65 | Precision = 0.770, Recall = 0.366 | F1-score = 0.497\n",
      "Threshold = 0.70 | Precision = 0.856, Recall = 0.257 | F1-score = 0.395\n",
      "Threshold = 0.75 | Precision = 0.856, Recall = 0.257 | F1-score = 0.395\n",
      "Threshold = 0.80 | Precision = 0.896, Recall = 0.153 | F1-score = 0.261\n",
      "Threshold = 0.85 | Precision = 0.896, Recall = 0.153 | F1-score = 0.261\n",
      "Threshold = 0.90 | Precision = 1.000, Recall = 0.087 | F1-score = 0.159\n"
     ]
    },
    {
     "data": {
      "image/png": "[encoded data removed]",
      "text/plain": [
       "<Figure size 720x720 with 1 Axes>"
      ]
     },
     "metadata": {},
     "output_type": "display_data"
    }
   ],
   "source": [
    "model = RandomForestClassifier(random_state=42, n_estimators=10)\n",
    "model.fit(features_train, target_train)\n",
    "probabilities_valid = model.predict_proba(features_valid)\n",
    "probabilities_one_valid = probabilities_valid[:, 1]\n",
    "\n",
    "for threshold in np.arange(0, 0.95, 0.05):\n",
    "    predicted_valid = probabilities_one_valid > threshold\n",
    "    precision = precision_score(target_valid, predicted_valid)\n",
    "    recall = recall_score(target_valid, predicted_valid)\n",
    "    f1 = f1_score(target_valid, predicted_valid)\n",
    "    print(\"Threshold = {:.2f} | Precision = {:.3f}, Recall = {:.3f} | F1-score = {:.3f}\".format(\n",
    "        threshold, precision, recall, f1))\n",
    "\n",
    "precision, recall, thresholds = precision_recall_curve(target_valid, probabilities_valid[:, 1])    \n",
    "plt.figure(figsize=(10, 10))\n",
    "plt.step(recall, precision, where='post')\n",
    "plt.xlabel('Recall')\n",
    "plt.ylabel('Precision')\n",
    "plt.ylim([0.0, 1.05])\n",
    "plt.xlim([0.0, 1.0])\n",
    "plt.title('PR curve')\n",
    "plt.show() "
   ]
  },
  {
   "cell_type": "markdown",
   "metadata": {},
   "source": [
    "Самый высокий показатель достигается при пороге в 0,2\n",
    "\n",
    "Давайте выберем повышающую дискретизацию, увеличивающую выборку. На нем мы будем обучать наши модели и выбирать гиперпараметры. Мы не будем изменять пороговое значение или сокращать выборку"
   ]
  },
  {
   "cell_type": "markdown",
   "metadata": {},
   "source": [
    "Буду обучать модель на увеличенной выборке, проверять параметры на валидационной выборке и оценивать ее с помощью F1-меры, мы не будем использовать перекрестную валидацию для логистической регрессии и случайного леса.\n",
    "\n",
    "Параметры будут выбраны с помощью GridSearchCV. цикл и перечисление использоваться не будут"
   ]
  },
  {
   "cell_type": "markdown",
   "metadata": {},
   "source": [
    "Logistic regression"
   ]
  },
  {
   "cell_type": "code",
   "execution_count": 144,
   "metadata": {},
   "outputs": [
    {
     "data": {
      "text/plain": [
       "GridSearchCV(cv=5,\n",
       "             estimator=LogisticRegression(random_state=42, solver='liblinear'),\n",
       "             param_grid={'C': [0.5, 1, 1.5], 'class_weight': [None, 'balanced'],\n",
       "                         'intercept_scaling': [0.5, 1.0, 1.5]},\n",
       "             scoring='f1')"
      ]
     },
     "execution_count": 144,
     "metadata": {},
     "output_type": "execute_result"
    }
   ],
   "source": [
    "par_grid_logist = {\n",
    "                   'intercept_scaling': [0.5, 1.0],\n",
    "                   'class_weight': [None, 'balanced'],\n",
    "                   'C': [0.5, 1]\n",
    "                   }\n",
    "model = LogisticRegression(solver='liblinear',random_state=42)\n",
    "\n",
    "grid_search = GridSearchCV(model, par_grid_logist, cv=5,\n",
    "                           scoring='f1')\n",
    "grid_search.fit(features_upsampled, target_upsampled)"
   ]
  },
  {
   "cell_type": "code",
   "execution_count": 145,
   "metadata": {},
   "outputs": [
    {
     "data": {
      "text/plain": [
       "{'C': 1.5, 'class_weight': None, 'intercept_scaling': 0.5}"
      ]
     },
     "execution_count": 145,
     "metadata": {},
     "output_type": "execute_result"
    }
   ],
   "source": [
    "grid_search.best_params_"
   ]
  },
  {
   "cell_type": "markdown",
   "metadata": {},
   "source": [
    "применим наши параметры и посмотрим на результат:"
   ]
  },
  {
   "cell_type": "code",
   "execution_count": 146,
   "metadata": {},
   "outputs": [
    {
     "name": "stdout",
     "output_type": "stream",
     "text": [
      "F1: 0.46987032799389783\n"
     ]
    }
   ],
   "source": [
    "model_lreg = LogisticRegression(C=1.5, class_weight=None, intercept_scaling=0.5,\n",
    "                                solver='liblinear', random_state=42\n",
    ")\n",
    "model_lreg.fit(features_upsampled, target_upsampled)\n",
    "predicted_valid = model_lreg.predict(features_valid)\n",
    "print(\"F1:\", f1_score(target_valid, predicted_valid))"
   ]
  },
  {
   "cell_type": "markdown",
   "metadata": {},
   "source": [
    "Ниже порога 0.59 давайте посмотрим, как модель будет вести себя во время тестирования"
   ]
  },
  {
   "cell_type": "code",
   "execution_count": 147,
   "metadata": {},
   "outputs": [
    {
     "data": {
      "image/png": "[encoded data removed]",
      "text/plain": [
       "<Figure size 720x720 with 1 Axes>"
      ]
     },
     "metadata": {},
     "output_type": "display_data"
    },
    {
     "name": "stdout",
     "output_type": "stream",
     "text": [
      "AUC: 0.7819875196144096\n"
     ]
    }
   ],
   "source": [
    "probabilities_valid = model_lreg.predict_proba(features_valid)\n",
    "probabilities_one_valid = probabilities_valid[:, 1]\n",
    "\n",
    "fpr, tpr, thresholds = roc_curve(target_valid, probabilities_one_valid) \n",
    "\n",
    "plt.figure(figsize=(10, 10))\n",
    "plt.plot(fpr, tpr, linestyle='-')\n",
    "plt.plot([0, 1], [0, 1], linestyle='--')\n",
    "plt.xlim([0.0, 1.0])\n",
    "plt.ylim([0.0, 1.0])\n",
    "plt.xlabel('False Positive Rate')\n",
    "plt.ylabel('True Positive Rate')\n",
    "plt.title('ROC-curve')\n",
    "\n",
    "plt.show()\n",
    "\n",
    "auc_roc = roc_auc_score (target_valid, probabilities_one_valid)\n",
    "\n",
    "print(\"AUC:\", auc_roc)"
   ]
  },
  {
   "cell_type": "markdown",
   "metadata": {},
   "source": [
    "AUC больше 0,5,  модель стала лучше"
   ]
  },
  {
   "cell_type": "markdown",
   "metadata": {},
   "source": [
    "Random forest"
   ]
  },
  {
   "cell_type": "code",
   "execution_count": 148,
   "metadata": {},
   "outputs": [
    {
     "data": {
      "text/plain": [
       "GridSearchCV(cv=5, estimator=RandomForestClassifier(random_state=42),\n",
       "             param_grid={'criterion': ['gini', 'entropy'],\n",
       "                         'min_samples_split': range(5, 15),\n",
       "                         'n_estimators': [3, 10, 30]},\n",
       "             scoring='accuracy')"
      ]
     },
     "execution_count": 148,
     "metadata": {},
     "output_type": "execute_result"
    }
   ],
   "source": [
    "par_grid_ensemble = {'n_estimators': [3, 10, 30],\n",
    "                     'criterion': ['gini', 'entropy'],\n",
    "                     'min_samples_split': range(5, 15)\n",
    "                    }\n",
    "model = RandomForestClassifier(random_state=42)\n",
    "\n",
    "grid_search = GridSearchCV(model, par_grid_ensemble, cv=5,\n",
    "                           scoring='accuracy'\n",
    "                          )\n",
    "grid_search.fit(features_upsampled, target_upsampled)"
   ]
  },
  {
   "cell_type": "code",
   "execution_count": 149,
   "metadata": {},
   "outputs": [
    {
     "data": {
      "text/plain": [
       "{'criterion': 'entropy', 'min_samples_split': 5, 'n_estimators': 30}"
      ]
     },
     "execution_count": 149,
     "metadata": {},
     "output_type": "execute_result"
    }
   ],
   "source": [
    "grid_search.best_params_"
   ]
  },
  {
   "cell_type": "code",
   "execution_count": 150,
   "metadata": {},
   "outputs": [
    {
     "name": "stdout",
     "output_type": "stream",
     "text": [
      "F1: 0.5922974767596282\n"
     ]
    }
   ],
   "source": [
    "model_rfc = RandomForestClassifier(random_state=42, criterion='gini', \n",
    "                               min_samples_split=5, n_estimators=30\n",
    "                              )\n",
    "model_rfc.fit(features_upsampled, target_upsampled)\n",
    "predicted_valid = model_rfc.predict(features_valid)\n",
    "print(\"F1:\", f1_score(target_valid, predicted_valid))"
   ]
  },
  {
   "cell_type": "markdown",
   "metadata": {},
   "source": [
    "Выше порогового значения 0,59, проверим test и посмотрим, как модель ведет себя на незнакомых данных"
   ]
  },
  {
   "cell_type": "code",
   "execution_count": 151,
   "metadata": {},
   "outputs": [
    {
     "data": {
      "image/png": "[encoded data removed]",
      "text/plain": [
       "<Figure size 720x720 with 1 Axes>"
      ]
     },
     "metadata": {},
     "output_type": "display_data"
    },
    {
     "name": "stdout",
     "output_type": "stream",
     "text": [
      "AUC: 0.8377969475149276\n"
     ]
    }
   ],
   "source": [
    "probabilities_valid = model_rfc.predict_proba(features_valid)\n",
    "probabilities_one_valid = probabilities_valid[:, 1]\n",
    "\n",
    "fpr, tpr, thresholds = roc_curve(target_valid, probabilities_one_valid) \n",
    "\n",
    "plt.figure(figsize=(10, 10))\n",
    "plt.plot(fpr, tpr, linestyle='-')\n",
    "plt.plot([0, 1], [0, 1], linestyle='--')\n",
    "plt.xlim([0.0, 1.0])\n",
    "plt.ylim([0.0, 1.0])\n",
    "plt.xlabel('False Positive Rate')\n",
    "plt.ylabel('True Positive Rate')\n",
    "plt.title('ROC-curve')\n",
    "plt.show()\n",
    "\n",
    "auc_roc = roc_auc_score (target_valid, probabilities_one_valid)\n",
    "\n",
    "print(\"AUC:\", auc_roc)"
   ]
  },
  {
   "cell_type": "markdown",
   "metadata": {},
   "source": [
    "AUC также говорит нам, что модель является лучшей."
   ]
  },
  {
   "cell_type": "markdown",
   "metadata": {},
   "source": [
    "## Тестирование модели"
   ]
  },
  {
   "cell_type": "code",
   "execution_count": 152,
   "metadata": {},
   "outputs": [],
   "source": [
    "table_of_model = []\n",
    "table_of_prec = []\n",
    "table_of_acc = []"
   ]
  },
  {
   "cell_type": "markdown",
   "metadata": {},
   "source": [
    "\n",
    "\n",
    "Logistic regression"
   ]
  },
  {
   "cell_type": "code",
   "execution_count": 153,
   "metadata": {},
   "outputs": [
    {
     "name": "stdout",
     "output_type": "stream",
     "text": [
      "Accuracy\n",
      "Test set: 0.6675\n",
      "F1-мера\n",
      "Test set: 0.5041014168530947\n"
     ]
    }
   ],
   "source": [
    "predictions_test = model_lreg.predict(features_test)\n",
    "test_f1 = f1_score(target_test, predictions_test)\n",
    "test_acc = accuracy_score(target_test, predictions_test)\n",
    "\n",
    "print(\"Accuracy\")\n",
    "print(\"Test set:\", test_acc)\n",
    "print(\"F1-мера\")\n",
    "print(\"Test set:\", test_f1)\n",
    "\n",
    "table_of_acc.append(round(test_acc, 2))\n",
    "table_of_prec.append(round(test_f1, 2))\n",
    "table_of_model.append('LogisticRegression')"
   ]
  },
  {
   "cell_type": "markdown",
   "metadata": {},
   "source": [
    "Random forest"
   ]
  },
  {
   "cell_type": "code",
   "execution_count": 154,
   "metadata": {},
   "outputs": [
    {
     "name": "stdout",
     "output_type": "stream",
     "text": [
      "Accuracy\n",
      "Test set: 0.85\n",
      "F1-мера\n",
      "Test set: 0.6124031007751938\n"
     ]
    }
   ],
   "source": [
    "predictions_test = model_rfc.predict(features_test)\n",
    "test_f1 = f1_score(target_test, predictions_test)\n",
    "test_acc = accuracy_score(target_test, predictions_test)\n",
    "\n",
    "print(\"Accuracy\")\n",
    "print(\"Test set:\", test_acc)\n",
    "print(\"F1-мера\")\n",
    "print(\"Test set:\", test_f1)\n",
    "\n",
    "table_of_acc.append(round(test_acc, 2))\n",
    "table_of_prec.append(round(test_f1, 2))\n",
    "table_of_model.append('RandomForestClassifier')"
   ]
  },
  {
   "cell_type": "code",
   "execution_count": 155,
   "metadata": {},
   "outputs": [
    {
     "data": {
      "text/plain": [
       "array([0.1331455 , 0.25286522, 0.08074677, 0.1412647 , 0.13306449,\n",
       "       0.01851208, 0.03407288, 0.13772004, 0.02159708, 0.03121515,\n",
       "       0.0157961 ])"
      ]
     },
     "execution_count": 155,
     "metadata": {},
     "output_type": "execute_result"
    }
   ],
   "source": [
    "model_rfc.feature_importances_"
   ]
  },
  {
   "cell_type": "code",
   "execution_count": 156,
   "metadata": {},
   "outputs": [
    {
     "data": {
      "text/plain": [
       "Index(['CreditScore', 'Age', 'Tenure', 'Balance', 'NumOfProducts', 'HasCrCard',\n",
       "       'IsActiveMember', 'EstimatedSalary', 'Male', 'Germany', 'Spain'],\n",
       "      dtype='object')"
      ]
     },
     "execution_count": 156,
     "metadata": {},
     "output_type": "execute_result"
    }
   ],
   "source": [
    "features_test.columns"
   ]
  },
  {
   "cell_type": "code",
   "execution_count": 157,
   "metadata": {},
   "outputs": [
    {
     "data": {
      "text/html": [
       "<div>\n",
       "<style scoped>\n",
       "    .dataframe tbody tr th:only-of-type {\n",
       "        vertical-align: middle;\n",
       "    }\n",
       "\n",
       "    .dataframe tbody tr th {\n",
       "        vertical-align: top;\n",
       "    }\n",
       "\n",
       "    .dataframe thead th {\n",
       "        text-align: right;\n",
       "    }\n",
       "</style>\n",
       "<table border=\"1\" class=\"dataframe\">\n",
       "  <thead>\n",
       "    <tr style=\"text-align: right;\">\n",
       "      <th></th>\n",
       "      <th>name</th>\n",
       "      <th>fi</th>\n",
       "    </tr>\n",
       "  </thead>\n",
       "  <tbody>\n",
       "    <tr>\n",
       "      <th>1</th>\n",
       "      <td>Age</td>\n",
       "      <td>0.252865</td>\n",
       "    </tr>\n",
       "    <tr>\n",
       "      <th>3</th>\n",
       "      <td>Balance</td>\n",
       "      <td>0.141265</td>\n",
       "    </tr>\n",
       "    <tr>\n",
       "      <th>7</th>\n",
       "      <td>EstimatedSalary</td>\n",
       "      <td>0.137720</td>\n",
       "    </tr>\n",
       "    <tr>\n",
       "      <th>0</th>\n",
       "      <td>CreditScore</td>\n",
       "      <td>0.133145</td>\n",
       "    </tr>\n",
       "    <tr>\n",
       "      <th>4</th>\n",
       "      <td>NumOfProducts</td>\n",
       "      <td>0.133064</td>\n",
       "    </tr>\n",
       "    <tr>\n",
       "      <th>2</th>\n",
       "      <td>Tenure</td>\n",
       "      <td>0.080747</td>\n",
       "    </tr>\n",
       "    <tr>\n",
       "      <th>6</th>\n",
       "      <td>IsActiveMember</td>\n",
       "      <td>0.034073</td>\n",
       "    </tr>\n",
       "    <tr>\n",
       "      <th>9</th>\n",
       "      <td>Germany</td>\n",
       "      <td>0.031215</td>\n",
       "    </tr>\n",
       "    <tr>\n",
       "      <th>8</th>\n",
       "      <td>Male</td>\n",
       "      <td>0.021597</td>\n",
       "    </tr>\n",
       "    <tr>\n",
       "      <th>5</th>\n",
       "      <td>HasCrCard</td>\n",
       "      <td>0.018512</td>\n",
       "    </tr>\n",
       "    <tr>\n",
       "      <th>10</th>\n",
       "      <td>Spain</td>\n",
       "      <td>0.015796</td>\n",
       "    </tr>\n",
       "  </tbody>\n",
       "</table>\n",
       "</div>"
      ],
      "text/plain": [
       "               name        fi\n",
       "1               Age  0.252865\n",
       "3           Balance  0.141265\n",
       "7   EstimatedSalary  0.137720\n",
       "0       CreditScore  0.133145\n",
       "4     NumOfProducts  0.133064\n",
       "2            Tenure  0.080747\n",
       "6    IsActiveMember  0.034073\n",
       "9           Germany  0.031215\n",
       "8              Male  0.021597\n",
       "5         HasCrCard  0.018512\n",
       "10            Spain  0.015796"
      ]
     },
     "execution_count": 157,
     "metadata": {},
     "output_type": "execute_result"
    }
   ],
   "source": [
    "fi = pd.DataFrame({'name':features_test.columns,'fi':model_rfc.feature_importances_})\n",
    "fi.sort_values('fi',ascending=False)"
   ]
  },
  {
   "cell_type": "markdown",
   "metadata": {},
   "source": [
    "Вывод\n",
    "Нам были предоставлены исторические данные о поведении клиентов и расторжении договоров с банком. На основе этих данных мы сформировали функции для обучения модели с целью прогнозирования оттока клиентов. Мы достигли наилучших результатов с моделью, основанной на алгоритме Cлучайного леса.\n",
    "\n"
   ]
  },
  {
   "cell_type": "code",
   "execution_count": 158,
   "metadata": {},
   "outputs": [
    {
     "data": {
      "text/html": [
       "<div>\n",
       "<style scoped>\n",
       "    .dataframe tbody tr th:only-of-type {\n",
       "        vertical-align: middle;\n",
       "    }\n",
       "\n",
       "    .dataframe tbody tr th {\n",
       "        vertical-align: top;\n",
       "    }\n",
       "\n",
       "    .dataframe thead th {\n",
       "        text-align: right;\n",
       "    }\n",
       "</style>\n",
       "<table border=\"1\" class=\"dataframe\">\n",
       "  <thead>\n",
       "    <tr style=\"text-align: right;\">\n",
       "      <th></th>\n",
       "      <th>name</th>\n",
       "      <th>fi</th>\n",
       "    </tr>\n",
       "  </thead>\n",
       "  <tbody>\n",
       "    <tr>\n",
       "      <th>0</th>\n",
       "      <td>Age</td>\n",
       "      <td>0.252865</td>\n",
       "    </tr>\n",
       "    <tr>\n",
       "      <th>1</th>\n",
       "      <td>Balance</td>\n",
       "      <td>0.141265</td>\n",
       "    </tr>\n",
       "    <tr>\n",
       "      <th>2</th>\n",
       "      <td>EstimatedSalary</td>\n",
       "      <td>0.137720</td>\n",
       "    </tr>\n",
       "    <tr>\n",
       "      <th>3</th>\n",
       "      <td>CreditScore</td>\n",
       "      <td>0.133145</td>\n",
       "    </tr>\n",
       "    <tr>\n",
       "      <th>4</th>\n",
       "      <td>NumOfProducts</td>\n",
       "      <td>0.133064</td>\n",
       "    </tr>\n",
       "  </tbody>\n",
       "</table>\n",
       "</div>"
      ],
      "text/plain": [
       "              name        fi\n",
       "0              Age  0.252865\n",
       "1          Balance  0.141265\n",
       "2  EstimatedSalary  0.137720\n",
       "3      CreditScore  0.133145\n",
       "4    NumOfProducts  0.133064"
      ]
     },
     "execution_count": 158,
     "metadata": {},
     "output_type": "execute_result"
    }
   ],
   "source": [
    "fi.sort_values('fi',ascending=False).reset_index(drop=True).head()"
   ]
  },
  {
   "cell_type": "markdown",
   "metadata": {},
   "source": [
    "Наиболее важными признаками, на которые следует обратить внимание, являются:\n",
    "\n",
    "Возраст клиента\n",
    "Остаток на счете\n",
    "Ожидаемая прибыль\n"
   ]
  },
  {
   "cell_type": "markdown",
   "metadata": {},
   "source": [
    "## Чек-лист готовности проекта"
   ]
  },
  {
   "cell_type": "markdown",
   "metadata": {},
   "source": [
    "Поставьте 'x' в выполненных пунктах. Далее нажмите Shift+Enter."
   ]
  },
  {
   "cell_type": "markdown",
   "metadata": {},
   "source": [
    "- [x]  Jupyter Notebook открыт\n",
    "- [x]  Весь код выполняется без ошибок\n",
    "- [x]  Ячейки с кодом расположены в порядке исполнения\n",
    "- [x]  Выполнен шаг 1: данные подготовлены\n",
    "- [x]  Выполнен шаг 2: задача исследована\n",
    "    - [x]  Исследован баланс классов\n",
    "    - [x]  Изучены модели без учёта дисбаланса\n",
    "    - [x]  Написаны выводы по результатам исследования\n",
    "- [x]  Выполнен шаг 3: учтён дисбаланс\n",
    "    - [x]  Применено несколько способов борьбы с дисбалансом\n",
    "    - [x]  Написаны выводы по результатам исследования\n",
    "- [x]  Выполнен шаг 4: проведено тестирование\n",
    "- [x]  Удалось достичь *F1*-меры не менее 0.59\n",
    "- [x]  Исследована метрика *AUC-ROC*"
   ]
  },
  {
   "cell_type": "code",
   "execution_count": null,
   "metadata": {},
   "outputs": [],
   "source": []
  }
 ],
 "metadata": {
  "ExecuteTimeLog": [
   {
    "duration": 1311,
    "start_time": "2022-11-17T06:18:25.254Z"
   },
   {
    "duration": 101,
    "start_time": "2022-11-17T06:18:59.124Z"
   },
   {
    "duration": 90,
    "start_time": "2022-11-17T06:19:24.944Z"
   },
   {
    "duration": 44,
    "start_time": "2022-11-17T19:34:37.153Z"
   },
   {
    "duration": 36,
    "start_time": "2022-11-17T19:34:38.543Z"
   },
   {
    "duration": 12,
    "start_time": "2022-11-17T19:35:17.643Z"
   },
   {
    "duration": 6,
    "start_time": "2022-11-17T19:49:14.754Z"
   },
   {
    "duration": 1964,
    "start_time": "2022-11-17T19:54:14.031Z"
   },
   {
    "duration": 12,
    "start_time": "2022-11-17T20:04:31.973Z"
   },
   {
    "duration": 3,
    "start_time": "2022-11-20T14:26:02.470Z"
   },
   {
    "duration": 63,
    "start_time": "2022-11-20T14:26:03.624Z"
   },
   {
    "duration": 37,
    "start_time": "2022-11-20T14:26:04.779Z"
   },
   {
    "duration": 11,
    "start_time": "2022-11-20T14:26:05.977Z"
   },
   {
    "duration": 1779,
    "start_time": "2022-11-20T14:26:07.913Z"
   },
   {
    "duration": 16,
    "start_time": "2022-11-20T14:26:15.525Z"
   },
   {
    "duration": 6,
    "start_time": "2022-11-20T14:27:23.971Z"
   },
   {
    "duration": 11,
    "start_time": "2022-11-20T14:27:25.693Z"
   },
   {
    "duration": 7,
    "start_time": "2022-11-20T14:27:28.228Z"
   },
   {
    "duration": 9,
    "start_time": "2022-11-20T14:27:29.263Z"
   },
   {
    "duration": 8,
    "start_time": "2022-11-20T14:29:23.883Z"
   },
   {
    "duration": 10,
    "start_time": "2022-11-20T14:29:37.544Z"
   },
   {
    "duration": 1193,
    "start_time": "2022-11-20T14:30:23.009Z"
   },
   {
    "duration": 7,
    "start_time": "2022-11-20T14:30:42.323Z"
   },
   {
    "duration": 11,
    "start_time": "2022-11-20T14:31:10.513Z"
   },
   {
    "duration": 18,
    "start_time": "2022-11-20T14:31:33.973Z"
   },
   {
    "duration": 3,
    "start_time": "2022-11-20T14:31:50.862Z"
   },
   {
    "duration": 15,
    "start_time": "2022-11-20T14:31:52.186Z"
   },
   {
    "duration": 5,
    "start_time": "2022-11-20T14:32:11.756Z"
   },
   {
    "duration": 13,
    "start_time": "2022-11-20T14:32:28.582Z"
   },
   {
    "duration": 234,
    "start_time": "2022-11-20T14:39:57.605Z"
   },
   {
    "duration": 5,
    "start_time": "2022-11-20T14:40:02.715Z"
   },
   {
    "duration": 5,
    "start_time": "2022-11-20T14:40:04.364Z"
   },
   {
    "duration": 6,
    "start_time": "2022-11-20T14:40:06.363Z"
   },
   {
    "duration": 17,
    "start_time": "2022-11-20T14:42:01.390Z"
   },
   {
    "duration": 59,
    "start_time": "2022-11-20T14:42:25.303Z"
   },
   {
    "duration": 19,
    "start_time": "2022-11-20T14:42:42.853Z"
   },
   {
    "duration": 14,
    "start_time": "2022-11-20T14:45:31.124Z"
   },
   {
    "duration": 21,
    "start_time": "2022-11-20T14:46:08.074Z"
   },
   {
    "duration": 16,
    "start_time": "2022-11-20T14:47:30.044Z"
   },
   {
    "duration": 26,
    "start_time": "2022-11-20T14:48:02.380Z"
   },
   {
    "duration": 18,
    "start_time": "2022-11-20T14:48:12.253Z"
   },
   {
    "duration": 16,
    "start_time": "2022-11-20T14:50:22.182Z"
   },
   {
    "duration": 7,
    "start_time": "2022-11-20T14:51:03.854Z"
   },
   {
    "duration": 47,
    "start_time": "2022-11-20T14:51:04.484Z"
   },
   {
    "duration": 37,
    "start_time": "2022-11-20T14:51:05.113Z"
   },
   {
    "duration": 12,
    "start_time": "2022-11-20T14:51:05.683Z"
   },
   {
    "duration": 2052,
    "start_time": "2022-11-20T14:51:06.214Z"
   },
   {
    "duration": 6,
    "start_time": "2022-11-20T14:51:08.268Z"
   },
   {
    "duration": 16,
    "start_time": "2022-11-20T14:51:08.275Z"
   },
   {
    "duration": 11,
    "start_time": "2022-11-20T14:51:09.824Z"
   },
   {
    "duration": 6,
    "start_time": "2022-11-20T14:51:10.803Z"
   },
   {
    "duration": 6,
    "start_time": "2022-11-20T14:51:11.334Z"
   },
   {
    "duration": 16,
    "start_time": "2022-11-20T14:51:11.825Z"
   },
   {
    "duration": 3,
    "start_time": "2022-11-20T14:51:12.904Z"
   },
   {
    "duration": 5,
    "start_time": "2022-11-20T14:51:13.443Z"
   },
   {
    "duration": 8,
    "start_time": "2022-11-20T14:51:14.550Z"
   },
   {
    "duration": 5,
    "start_time": "2022-11-20T14:51:15.094Z"
   },
   {
    "duration": 5,
    "start_time": "2022-11-20T14:51:25.773Z"
   },
   {
    "duration": 21,
    "start_time": "2022-11-20T14:51:29.424Z"
   },
   {
    "duration": 17,
    "start_time": "2022-11-20T14:51:31.764Z"
   },
   {
    "duration": 17,
    "start_time": "2022-11-20T14:51:33.354Z"
   },
   {
    "duration": 1146,
    "start_time": "2022-11-20T14:55:44.533Z"
   },
   {
    "duration": 1124,
    "start_time": "2022-11-20T14:56:02.251Z"
   },
   {
    "duration": 7,
    "start_time": "2022-11-20T14:56:15.824Z"
   },
   {
    "duration": 49,
    "start_time": "2022-11-20T14:56:16.356Z"
   },
   {
    "duration": 35,
    "start_time": "2022-11-20T14:56:16.865Z"
   },
   {
    "duration": 14,
    "start_time": "2022-11-20T14:56:17.434Z"
   },
   {
    "duration": 2137,
    "start_time": "2022-11-20T14:56:19.183Z"
   },
   {
    "duration": 5,
    "start_time": "2022-11-20T14:56:21.322Z"
   },
   {
    "duration": 12,
    "start_time": "2022-11-20T14:56:26.496Z"
   },
   {
    "duration": 12,
    "start_time": "2022-11-20T14:56:31.503Z"
   },
   {
    "duration": 6,
    "start_time": "2022-11-20T14:56:33.783Z"
   },
   {
    "duration": 6,
    "start_time": "2022-11-20T14:56:35.104Z"
   },
   {
    "duration": 19,
    "start_time": "2022-11-20T14:56:41.534Z"
   },
   {
    "duration": 3,
    "start_time": "2022-11-20T14:56:43.813Z"
   },
   {
    "duration": 7,
    "start_time": "2022-11-20T14:56:44.595Z"
   },
   {
    "duration": 8,
    "start_time": "2022-11-20T14:56:46.131Z"
   },
   {
    "duration": 8,
    "start_time": "2022-11-20T14:56:47.153Z"
   },
   {
    "duration": 6,
    "start_time": "2022-11-20T14:56:48.723Z"
   },
   {
    "duration": 23,
    "start_time": "2022-11-20T14:56:51.211Z"
   },
   {
    "duration": 20,
    "start_time": "2022-11-20T14:56:53.424Z"
   },
   {
    "duration": 18,
    "start_time": "2022-11-20T14:56:54.564Z"
   },
   {
    "duration": 19,
    "start_time": "2022-11-20T14:56:59.064Z"
   },
   {
    "duration": 19,
    "start_time": "2022-11-20T14:58:15.502Z"
   },
   {
    "duration": 55,
    "start_time": "2022-11-20T15:03:34.503Z"
   },
   {
    "duration": 7,
    "start_time": "2022-11-20T15:03:38.843Z"
   },
   {
    "duration": 56,
    "start_time": "2022-11-20T15:03:39.399Z"
   },
   {
    "duration": 35,
    "start_time": "2022-11-20T15:03:40.207Z"
   },
   {
    "duration": 14,
    "start_time": "2022-11-20T15:03:41.443Z"
   },
   {
    "duration": 2095,
    "start_time": "2022-11-20T15:03:41.983Z"
   },
   {
    "duration": 5,
    "start_time": "2022-11-20T15:03:44.080Z"
   },
   {
    "duration": 22,
    "start_time": "2022-11-20T15:03:44.086Z"
   },
   {
    "duration": 15,
    "start_time": "2022-11-20T15:03:45.253Z"
   },
   {
    "duration": 5,
    "start_time": "2022-11-20T15:03:46.363Z"
   },
   {
    "duration": 6,
    "start_time": "2022-11-20T15:03:46.898Z"
   },
   {
    "duration": 16,
    "start_time": "2022-11-20T15:03:47.483Z"
   },
   {
    "duration": 3,
    "start_time": "2022-11-20T15:03:48.841Z"
   },
   {
    "duration": 4,
    "start_time": "2022-11-20T15:03:49.343Z"
   },
   {
    "duration": 5,
    "start_time": "2022-11-20T15:03:50.488Z"
   },
   {
    "duration": 5,
    "start_time": "2022-11-20T15:03:50.815Z"
   },
   {
    "duration": 5,
    "start_time": "2022-11-20T15:03:51.538Z"
   },
   {
    "duration": 21,
    "start_time": "2022-11-20T15:03:53.343Z"
   },
   {
    "duration": 21,
    "start_time": "2022-11-20T15:03:54.614Z"
   },
   {
    "duration": 17,
    "start_time": "2022-11-20T15:03:55.738Z"
   },
   {
    "duration": 22,
    "start_time": "2022-11-20T15:03:57.614Z"
   },
   {
    "duration": 70,
    "start_time": "2022-11-20T15:04:18.499Z"
   },
   {
    "duration": 9,
    "start_time": "2022-11-20T15:05:53.754Z"
   },
   {
    "duration": 6,
    "start_time": "2022-11-20T15:06:07.274Z"
   },
   {
    "duration": 12,
    "start_time": "2022-11-20T15:06:43.844Z"
   },
   {
    "duration": 30,
    "start_time": "2022-11-20T15:06:46.603Z"
   },
   {
    "duration": 101,
    "start_time": "2022-11-20T15:06:55.344Z"
   },
   {
    "duration": 12,
    "start_time": "2022-11-20T15:08:05.798Z"
   },
   {
    "duration": 12,
    "start_time": "2022-11-20T15:09:25.624Z"
   },
   {
    "duration": 18,
    "start_time": "2022-11-20T15:09:28.534Z"
   },
   {
    "duration": 427,
    "start_time": "2022-11-20T15:10:00.644Z"
   },
   {
    "duration": 307,
    "start_time": "2022-11-20T15:10:13.864Z"
   },
   {
    "duration": 14651,
    "start_time": "2022-11-20T15:10:29.914Z"
   },
   {
    "duration": 4,
    "start_time": "2022-11-20T15:10:44.567Z"
   },
   {
    "duration": 184,
    "start_time": "2022-11-20T15:10:44.672Z"
   },
   {
    "duration": 333,
    "start_time": "2022-11-20T15:10:56.664Z"
   },
   {
    "duration": 34153,
    "start_time": "2022-11-20T15:11:27.374Z"
   },
   {
    "duration": 4,
    "start_time": "2022-11-20T15:12:01.528Z"
   },
   {
    "duration": 300,
    "start_time": "2022-11-20T15:12:01.533Z"
   },
   {
    "duration": 179,
    "start_time": "2022-11-20T15:12:33.164Z"
   },
   {
    "duration": 3,
    "start_time": "2022-11-20T15:13:03.704Z"
   },
   {
    "duration": 9,
    "start_time": "2022-11-20T15:13:05.611Z"
   },
   {
    "duration": 24,
    "start_time": "2022-11-20T15:13:09.775Z"
   },
   {
    "duration": 7,
    "start_time": "2022-11-20T15:13:14.496Z"
   },
   {
    "duration": 4,
    "start_time": "2022-11-20T15:13:19.144Z"
   },
   {
    "duration": 13,
    "start_time": "2022-11-20T15:13:20.404Z"
   },
   {
    "duration": 7,
    "start_time": "2022-11-20T15:14:17.444Z"
   },
   {
    "duration": 74,
    "start_time": "2022-11-21T16:08:41.995Z"
   },
   {
    "duration": 1683,
    "start_time": "2022-11-21T16:12:59.376Z"
   },
   {
    "duration": 177,
    "start_time": "2022-11-21T16:13:01.061Z"
   },
   {
    "duration": 39,
    "start_time": "2022-11-21T16:13:02.756Z"
   },
   {
    "duration": 14,
    "start_time": "2022-11-21T16:13:03.457Z"
   },
   {
    "duration": 149,
    "start_time": "2022-11-21T16:34:10.426Z"
   },
   {
    "duration": 47,
    "start_time": "2022-11-21T16:34:21.406Z"
   },
   {
    "duration": 50,
    "start_time": "2022-11-21T16:38:30.536Z"
   },
   {
    "duration": 50,
    "start_time": "2022-11-21T16:38:35.946Z"
   },
   {
    "duration": 53,
    "start_time": "2022-11-21T16:39:50.575Z"
   },
   {
    "duration": 37,
    "start_time": "2022-11-21T16:39:52.736Z"
   },
   {
    "duration": 12,
    "start_time": "2022-11-21T16:39:53.866Z"
   },
   {
    "duration": 2169,
    "start_time": "2022-11-21T16:39:56.396Z"
   },
   {
    "duration": 7,
    "start_time": "2022-11-21T16:39:58.568Z"
   },
   {
    "duration": 10,
    "start_time": "2022-11-21T16:40:01.446Z"
   },
   {
    "duration": 12,
    "start_time": "2022-11-21T16:44:17.116Z"
   },
   {
    "duration": 10,
    "start_time": "2022-11-21T16:44:24.586Z"
   },
   {
    "duration": 12,
    "start_time": "2022-11-21T16:44:30.216Z"
   },
   {
    "duration": 6,
    "start_time": "2022-11-21T16:44:31.196Z"
   },
   {
    "duration": 7,
    "start_time": "2022-11-21T16:44:31.687Z"
   },
   {
    "duration": 18,
    "start_time": "2022-11-21T16:44:32.366Z"
   },
   {
    "duration": 3,
    "start_time": "2022-11-21T16:44:34.104Z"
   },
   {
    "duration": 5,
    "start_time": "2022-11-21T16:44:34.630Z"
   },
   {
    "duration": 7,
    "start_time": "2022-11-21T16:44:36.266Z"
   },
   {
    "duration": 7,
    "start_time": "2022-11-21T16:44:36.748Z"
   },
   {
    "duration": 5,
    "start_time": "2022-11-21T16:44:38.206Z"
   },
   {
    "duration": 30,
    "start_time": "2022-11-21T16:44:44.226Z"
   },
   {
    "duration": 16,
    "start_time": "2022-11-21T16:44:47.606Z"
   },
   {
    "duration": 16,
    "start_time": "2022-11-21T16:44:48.796Z"
   },
   {
    "duration": 34,
    "start_time": "2022-11-21T16:44:51.096Z"
   },
   {
    "duration": 59,
    "start_time": "2022-11-21T16:44:52.886Z"
   },
   {
    "duration": 10,
    "start_time": "2022-11-21T16:48:54.666Z"
   },
   {
    "duration": 7,
    "start_time": "2022-11-21T16:49:21.946Z"
   },
   {
    "duration": 11,
    "start_time": "2022-11-21T16:49:42.996Z"
   },
   {
    "duration": 10,
    "start_time": "2022-11-21T16:50:07.736Z"
   },
   {
    "duration": 59,
    "start_time": "2022-11-21T16:50:20.956Z"
   },
   {
    "duration": 21,
    "start_time": "2022-11-21T16:51:43.456Z"
   },
   {
    "duration": 57,
    "start_time": "2022-11-21T16:51:46.746Z"
   },
   {
    "duration": 68,
    "start_time": "2022-11-21T16:51:51.679Z"
   },
   {
    "duration": 72,
    "start_time": "2022-11-21T16:56:01.797Z"
   },
   {
    "duration": 6,
    "start_time": "2022-11-21T16:56:17.227Z"
   },
   {
    "duration": 59,
    "start_time": "2022-11-21T16:56:19.762Z"
   },
   {
    "duration": 11,
    "start_time": "2022-11-21T16:57:55.606Z"
   },
   {
    "duration": 9335,
    "start_time": "2022-11-21T16:58:42.547Z"
   },
   {
    "duration": 9392,
    "start_time": "2022-11-21T16:59:20.597Z"
   },
   {
    "duration": 3798,
    "start_time": "2022-11-21T17:02:54.128Z"
   },
   {
    "duration": 25,
    "start_time": "2022-11-21T17:04:54.187Z"
   },
   {
    "duration": 8,
    "start_time": "2022-11-21T17:06:25.647Z"
   },
   {
    "duration": 7,
    "start_time": "2022-11-21T17:06:38.367Z"
   },
   {
    "duration": 16,
    "start_time": "2022-11-21T17:06:44.267Z"
   },
   {
    "duration": 9,
    "start_time": "2022-11-21T17:06:45.528Z"
   },
   {
    "duration": 1197,
    "start_time": "2022-11-21T17:11:32.858Z"
   },
   {
    "duration": 1469,
    "start_time": "2022-11-21T17:11:44.467Z"
   },
   {
    "duration": 1200,
    "start_time": "2022-11-21T17:14:15.708Z"
   },
   {
    "duration": 9,
    "start_time": "2022-11-21T17:19:29.003Z"
   },
   {
    "duration": 4,
    "start_time": "2022-11-21T17:20:04.040Z"
   },
   {
    "duration": 6,
    "start_time": "2022-11-21T17:20:34.738Z"
   },
   {
    "duration": 8,
    "start_time": "2022-11-21T17:21:17.947Z"
   },
   {
    "duration": 9,
    "start_time": "2022-11-21T17:21:28.732Z"
   },
   {
    "duration": 9,
    "start_time": "2022-11-21T17:21:50.736Z"
   },
   {
    "duration": 94,
    "start_time": "2022-11-21T17:22:00.637Z"
   },
   {
    "duration": 74,
    "start_time": "2022-11-21T17:22:12.076Z"
   },
   {
    "duration": 11,
    "start_time": "2022-11-21T17:22:48.396Z"
   },
   {
    "duration": 1115,
    "start_time": "2022-11-21T17:24:50.386Z"
   },
   {
    "duration": 10,
    "start_time": "2022-11-21T17:48:42.475Z"
   },
   {
    "duration": 13,
    "start_time": "2022-11-21T17:49:39.384Z"
   },
   {
    "duration": 3,
    "start_time": "2022-11-21T17:49:56.484Z"
   },
   {
    "duration": 11,
    "start_time": "2022-11-21T17:49:57.524Z"
   },
   {
    "duration": 313,
    "start_time": "2022-11-21T17:50:43.854Z"
   },
   {
    "duration": 21,
    "start_time": "2022-11-21T17:50:45.144Z"
   },
   {
    "duration": 562,
    "start_time": "2022-11-21T17:52:30.873Z"
   },
   {
    "duration": 4,
    "start_time": "2022-11-21T17:55:42.984Z"
   },
   {
    "duration": 623,
    "start_time": "2022-11-21T17:56:06.474Z"
   },
   {
    "duration": 598,
    "start_time": "2022-11-21T17:57:42.294Z"
   },
   {
    "duration": 7206,
    "start_time": "2022-11-21T18:01:45.154Z"
   },
   {
    "duration": 11475,
    "start_time": "2022-11-21T18:03:20.545Z"
   },
   {
    "duration": 13705,
    "start_time": "2022-11-21T18:05:00.043Z"
   },
   {
    "duration": 16146,
    "start_time": "2022-11-21T18:05:51.703Z"
   },
   {
    "duration": 537,
    "start_time": "2022-11-21T18:07:26.043Z"
   },
   {
    "duration": 526,
    "start_time": "2022-11-21T18:07:53.085Z"
   },
   {
    "duration": 525,
    "start_time": "2022-11-21T18:08:41.524Z"
   },
   {
    "duration": 578,
    "start_time": "2022-11-21T18:09:01.026Z"
   },
   {
    "duration": 10,
    "start_time": "2022-11-21T18:10:21.104Z"
   },
   {
    "duration": 16,
    "start_time": "2022-11-21T18:10:31.505Z"
   },
   {
    "duration": 4,
    "start_time": "2022-11-21T18:10:32.554Z"
   },
   {
    "duration": 6,
    "start_time": "2022-11-21T19:07:38.704Z"
   },
   {
    "duration": 58,
    "start_time": "2022-11-21T19:07:38.713Z"
   },
   {
    "duration": 35,
    "start_time": "2022-11-21T19:07:38.772Z"
   },
   {
    "duration": 11,
    "start_time": "2022-11-21T19:07:38.808Z"
   },
   {
    "duration": 2026,
    "start_time": "2022-11-21T19:07:38.821Z"
   },
   {
    "duration": 5,
    "start_time": "2022-11-21T19:07:40.848Z"
   },
   {
    "duration": 12,
    "start_time": "2022-11-21T19:07:40.855Z"
   },
   {
    "duration": 11,
    "start_time": "2022-11-21T19:07:40.869Z"
   },
   {
    "duration": 14,
    "start_time": "2022-11-21T19:07:40.882Z"
   },
   {
    "duration": 26,
    "start_time": "2022-11-21T19:07:40.897Z"
   },
   {
    "duration": 20,
    "start_time": "2022-11-21T19:07:40.926Z"
   },
   {
    "duration": 2,
    "start_time": "2022-11-21T19:07:40.948Z"
   },
   {
    "duration": 22,
    "start_time": "2022-11-21T19:07:40.952Z"
   },
   {
    "duration": 8,
    "start_time": "2022-11-21T19:07:40.976Z"
   },
   {
    "duration": 7,
    "start_time": "2022-11-21T19:07:40.986Z"
   },
   {
    "duration": 5,
    "start_time": "2022-11-21T19:07:40.994Z"
   },
   {
    "duration": 32,
    "start_time": "2022-11-21T19:07:41.000Z"
   },
   {
    "duration": 16,
    "start_time": "2022-11-21T19:07:41.033Z"
   },
   {
    "duration": 15,
    "start_time": "2022-11-21T19:07:41.050Z"
   },
   {
    "duration": 59,
    "start_time": "2022-11-21T19:07:41.066Z"
   },
   {
    "duration": 9055,
    "start_time": "2022-11-21T19:07:41.132Z"
   },
   {
    "duration": 3612,
    "start_time": "2022-11-21T19:07:50.188Z"
   },
   {
    "duration": 94,
    "start_time": "2022-11-21T19:07:53.802Z"
   },
   {
    "duration": 0,
    "start_time": "2022-11-21T19:07:53.898Z"
   },
   {
    "duration": 0,
    "start_time": "2022-11-21T19:07:53.899Z"
   },
   {
    "duration": 0,
    "start_time": "2022-11-21T19:07:53.900Z"
   },
   {
    "duration": 0,
    "start_time": "2022-11-21T19:07:53.901Z"
   },
   {
    "duration": 0,
    "start_time": "2022-11-21T19:07:53.902Z"
   },
   {
    "duration": 0,
    "start_time": "2022-11-21T19:07:53.903Z"
   },
   {
    "duration": 0,
    "start_time": "2022-11-21T19:07:53.904Z"
   },
   {
    "duration": 0,
    "start_time": "2022-11-21T19:07:53.905Z"
   },
   {
    "duration": 0,
    "start_time": "2022-11-21T19:07:53.906Z"
   },
   {
    "duration": 0,
    "start_time": "2022-11-21T19:07:53.907Z"
   },
   {
    "duration": 0,
    "start_time": "2022-11-21T19:07:53.908Z"
   },
   {
    "duration": 0,
    "start_time": "2022-11-21T19:07:53.909Z"
   },
   {
    "duration": 0,
    "start_time": "2022-11-21T19:07:53.910Z"
   },
   {
    "duration": 0,
    "start_time": "2022-11-21T19:07:53.911Z"
   },
   {
    "duration": 0,
    "start_time": "2022-11-21T19:07:53.912Z"
   },
   {
    "duration": 0,
    "start_time": "2022-11-21T19:07:53.913Z"
   },
   {
    "duration": 0,
    "start_time": "2022-11-21T19:07:53.914Z"
   },
   {
    "duration": 0,
    "start_time": "2022-11-21T19:07:53.915Z"
   },
   {
    "duration": 0,
    "start_time": "2022-11-21T19:07:53.915Z"
   },
   {
    "duration": 0,
    "start_time": "2022-11-21T19:07:53.916Z"
   },
   {
    "duration": 0,
    "start_time": "2022-11-21T19:07:53.917Z"
   },
   {
    "duration": 0,
    "start_time": "2022-11-21T19:07:53.918Z"
   },
   {
    "duration": 0,
    "start_time": "2022-11-21T19:07:53.919Z"
   },
   {
    "duration": 0,
    "start_time": "2022-11-21T19:07:53.920Z"
   },
   {
    "duration": 0,
    "start_time": "2022-11-21T19:07:53.921Z"
   },
   {
    "duration": 0,
    "start_time": "2022-11-21T19:07:53.922Z"
   },
   {
    "duration": 1,
    "start_time": "2022-11-21T19:07:53.922Z"
   },
   {
    "duration": 0,
    "start_time": "2022-11-21T19:07:53.923Z"
   },
   {
    "duration": 6,
    "start_time": "2022-11-21T19:09:57.315Z"
   },
   {
    "duration": 59,
    "start_time": "2022-11-21T19:09:57.323Z"
   },
   {
    "duration": 34,
    "start_time": "2022-11-21T19:09:57.384Z"
   },
   {
    "duration": 12,
    "start_time": "2022-11-21T19:09:57.420Z"
   },
   {
    "duration": 2097,
    "start_time": "2022-11-21T19:09:57.434Z"
   },
   {
    "duration": 5,
    "start_time": "2022-11-21T19:09:59.533Z"
   },
   {
    "duration": 14,
    "start_time": "2022-11-21T19:09:59.540Z"
   },
   {
    "duration": 11,
    "start_time": "2022-11-21T19:09:59.555Z"
   },
   {
    "duration": 8,
    "start_time": "2022-11-21T19:09:59.568Z"
   },
   {
    "duration": 9,
    "start_time": "2022-11-21T19:09:59.578Z"
   },
   {
    "duration": 45,
    "start_time": "2022-11-21T19:09:59.588Z"
   },
   {
    "duration": 3,
    "start_time": "2022-11-21T19:09:59.635Z"
   },
   {
    "duration": 7,
    "start_time": "2022-11-21T19:09:59.640Z"
   },
   {
    "duration": 6,
    "start_time": "2022-11-21T19:09:59.649Z"
   },
   {
    "duration": 7,
    "start_time": "2022-11-21T19:09:59.656Z"
   },
   {
    "duration": 8,
    "start_time": "2022-11-21T19:09:59.664Z"
   },
   {
    "duration": 24,
    "start_time": "2022-11-21T19:09:59.673Z"
   },
   {
    "duration": 37,
    "start_time": "2022-11-21T19:09:59.699Z"
   },
   {
    "duration": 18,
    "start_time": "2022-11-21T19:09:59.737Z"
   },
   {
    "duration": 69,
    "start_time": "2022-11-21T19:09:59.757Z"
   },
   {
    "duration": 9046,
    "start_time": "2022-11-21T19:09:59.828Z"
   },
   {
    "duration": 3864,
    "start_time": "2022-11-21T19:10:08.876Z"
   },
   {
    "duration": 7,
    "start_time": "2022-11-21T19:10:12.741Z"
   },
   {
    "duration": 31,
    "start_time": "2022-11-21T19:10:12.750Z"
   },
   {
    "duration": 2,
    "start_time": "2022-11-21T19:10:12.783Z"
   },
   {
    "duration": 10,
    "start_time": "2022-11-21T19:10:12.787Z"
   },
   {
    "duration": 42,
    "start_time": "2022-11-21T19:10:12.798Z"
   },
   {
    "duration": 7199,
    "start_time": "2022-11-21T19:10:12.842Z"
   },
   {
    "duration": 14746,
    "start_time": "2022-11-21T19:10:20.043Z"
   },
   {
    "duration": 506,
    "start_time": "2022-11-21T19:10:34.791Z"
   },
   {
    "duration": 12,
    "start_time": "2022-11-21T19:10:35.299Z"
   },
   {
    "duration": 3,
    "start_time": "2022-11-21T19:10:35.322Z"
   },
   {
    "duration": 31,
    "start_time": "2022-11-21T19:10:35.327Z"
   },
   {
    "duration": 607,
    "start_time": "2022-11-21T19:10:35.359Z"
   },
   {
    "duration": 310,
    "start_time": "2022-11-21T19:10:35.968Z"
   },
   {
    "duration": 14950,
    "start_time": "2022-11-21T19:10:36.280Z"
   },
   {
    "duration": 4,
    "start_time": "2022-11-21T19:10:51.233Z"
   },
   {
    "duration": 84,
    "start_time": "2022-11-21T19:10:51.238Z"
   },
   {
    "duration": 408,
    "start_time": "2022-11-21T19:10:51.324Z"
   },
   {
    "duration": 38436,
    "start_time": "2022-11-21T19:10:51.733Z"
   },
   {
    "duration": 4,
    "start_time": "2022-11-21T19:11:30.170Z"
   },
   {
    "duration": 323,
    "start_time": "2022-11-21T19:11:30.176Z"
   },
   {
    "duration": 199,
    "start_time": "2022-11-21T19:11:30.501Z"
   },
   {
    "duration": 3,
    "start_time": "2022-11-21T19:11:30.701Z"
   },
   {
    "duration": 32,
    "start_time": "2022-11-21T19:11:30.706Z"
   },
   {
    "duration": 240,
    "start_time": "2022-11-21T19:11:30.740Z"
   },
   {
    "duration": 37,
    "start_time": "2022-11-21T19:11:30.982Z"
   },
   {
    "duration": 25,
    "start_time": "2022-11-21T19:11:31.020Z"
   },
   {
    "duration": 65,
    "start_time": "2022-11-21T19:11:31.047Z"
   },
   {
    "duration": 34,
    "start_time": "2022-11-21T19:11:31.114Z"
   }
  ],
  "kernelspec": {
   "display_name": "Python 3",
   "language": "python",
   "name": "python3"
  },
  "language_info": {
   "codemirror_mode": {
    "name": "ipython",
    "version": 3
   },
   "file_extension": ".py",
   "mimetype": "text/x-python",
   "name": "python",
   "nbconvert_exporter": "python",
   "pygments_lexer": "ipython3",
   "version": "3.8.8"
  },
  "toc": {
   "base_numbering": 1,
   "nav_menu": {},
   "number_sections": true,
   "sideBar": true,
   "skip_h1_title": true,
   "title_cell": "Содержание",
   "title_sidebar": "Contents",
   "toc_cell": true,
   "toc_position": {},
   "toc_section_display": true,
   "toc_window_display": false
  }
 },
 "nbformat": 4,
 "nbformat_minor": 2
}
